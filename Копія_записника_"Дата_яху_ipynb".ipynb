{
  "nbformat": 4,
  "nbformat_minor": 0,
  "metadata": {
    "colab": {
      "provenance": [],
      "mount_file_id": "1cWhT0eY0vMh3OEVmZTaATxS35TVJ26Zb",
      "authorship_tag": "ABX9TyOJJKcgcwxZpFIOpIQkxEqG",
      "include_colab_link": true
    },
    "kernelspec": {
      "name": "python3",
      "display_name": "Python 3"
    },
    "language_info": {
      "name": "python"
    }
  },
  "cells": [
    {
      "cell_type": "markdown",
      "metadata": {
        "id": "view-in-github",
        "colab_type": "text"
      },
      "source": [
        "<a href=\"https://colab.research.google.com/github/pilipandr770/-/blob/main/%D0%9A%D0%BE%D0%BF%D1%96%D1%8F_%D0%B7%D0%B0%D0%BF%D0%B8%D1%81%D0%BD%D0%B8%D0%BA%D0%B0_%22%D0%94%D0%B0%D1%82%D0%B0_%D1%8F%D1%85%D1%83_ipynb%22.ipynb\" target=\"_parent\"><img src=\"https://colab.research.google.com/assets/colab-badge.svg\" alt=\"Open In Colab\"/></a>"
      ]
    },
    {
      "cell_type": "code",
      "source": [
        "import yfinance as yf\n",
        "import pandas as pd\n",
        "\n",
        "# === НАСТРОЙКИ ===\n",
        "TICKER = \"BTC-EUR\"\n",
        "TIMEFRAMES = {\n",
        "    \"15m\": \"60d\",\n",
        "    \"30m\": \"60d\",\n",
        "    \"1h\": \"1y\",\n",
        "    \"1d\": \"max\"\n",
        "}\n",
        "\n",
        "def fetch_data(ticker, tf_dict):\n",
        "    frames = {}\n",
        "    print(f\"\\n📡 Получаем данные по: {ticker}\")\n",
        "    for tf, period in tf_dict.items():\n",
        "        df = yf.download(ticker, interval=tf, period=period, progress=False)\n",
        "        if df.empty:\n",
        "            print(f\"  └─ ✗ {tf}: нет данных\")\n",
        "            continue\n",
        "        df.reset_index(inplace=True)\n",
        "        df[\"tf\"] = tf\n",
        "        frames[tf] = df\n",
        "        print(f\"  └─ ✓ {tf}: {len(df)} строк\")\n",
        "    return frames\n",
        "\n",
        "def print_samples(frames):\n",
        "    print(\"\\n📌 Примеры:\")\n",
        "    for tf, df in frames.items():\n",
        "        print(f\"\\n=== {tf.upper()} ===\")\n",
        "        print(df.head())\n",
        "\n",
        "frames = fetch_data(TICKER, TIMEFRAMES)\n",
        "print_samples(frames)\n"
      ],
      "metadata": {
        "colab": {
          "base_uri": "https://localhost:8080/"
        },
        "id": "m06NpOZs6_M_",
        "outputId": "eb961121-a8d9-4ee6-fd78-f142a9b01309"
      },
      "execution_count": null,
      "outputs": [
        {
          "output_type": "stream",
          "name": "stdout",
          "text": [
            "\n",
            "📡 Получаем данные по: BTC-EUR\n",
            "YF.download() has changed argument auto_adjust default to True\n",
            "  └─ ✓ 15m: 5738 строк\n",
            "  └─ ✓ 30m: 2869 строк\n",
            "  └─ ✓ 1h: 8761 строк\n",
            "  └─ ✓ 1d: 3855 строк\n",
            "\n",
            "📌 Примеры:\n",
            "\n",
            "=== 15M ===\n",
            "Price                   Datetime         Close          High           Low  \\\n",
            "Ticker                                 BTC-EUR       BTC-EUR       BTC-EUR   \n",
            "0      2025-02-06 00:00:00+00:00  92956.218750  92971.609375  92800.765625   \n",
            "1      2025-02-06 00:15:00+00:00  92961.781250  93173.921875  92961.781250   \n",
            "2      2025-02-06 00:30:00+00:00  93073.546875  93198.203125  92894.062500   \n",
            "3      2025-02-06 00:45:00+00:00  93164.265625  93164.265625  93003.187500   \n",
            "4      2025-02-06 01:00:00+00:00  93308.234375  93346.031250  92981.007812   \n",
            "\n",
            "Price           Open     Volume   tf  \n",
            "Ticker       BTC-EUR    BTC-EUR       \n",
            "0       92838.265625  134029312  15m  \n",
            "1       93000.093750  722030592  15m  \n",
            "2       92933.570312  685916160  15m  \n",
            "3       93106.656250  674971648  15m  \n",
            "4       93125.382812          0  15m  \n",
            "\n",
            "=== 30M ===\n",
            "Price                   Datetime         Close          High           Low  \\\n",
            "Ticker                                 BTC-EUR       BTC-EUR       BTC-EUR   \n",
            "0      2025-02-06 00:00:00+00:00  92961.781250  93173.921875  92800.765625   \n",
            "1      2025-02-06 00:30:00+00:00  93164.265625  93198.203125  92894.062500   \n",
            "2      2025-02-06 01:00:00+00:00  93365.132812  93401.445312  92981.007812   \n",
            "3      2025-02-06 01:30:00+00:00  93391.109375  93409.445312  93131.171875   \n",
            "4      2025-02-06 02:00:00+00:00  93546.984375  93636.773438  93374.992188   \n",
            "\n",
            "Price           Open      Volume   tf  \n",
            "Ticker       BTC-EUR     BTC-EUR       \n",
            "0       92838.265625   856059904  30m  \n",
            "1       92933.570312  1360887808  30m  \n",
            "2       93125.382812  1982025728  30m  \n",
            "3       93344.515625  1651712000  30m  \n",
            "4       93423.835938   720547840  30m  \n",
            "\n",
            "=== 1H ===\n",
            "Price                   Datetime         Close          High           Low  \\\n",
            "Ticker                                 BTC-EUR       BTC-EUR       BTC-EUR   \n",
            "0      2024-04-06 18:00:00+00:00  63009.984375  63033.156250  62913.453125   \n",
            "1      2024-04-06 19:00:00+00:00  62985.539062  63100.953125  62935.152344   \n",
            "2      2024-04-06 20:00:00+00:00  63090.183594  63090.183594  62896.039062   \n",
            "3      2024-04-06 21:00:00+00:00  63015.671875  63115.722656  63015.671875   \n",
            "4      2024-04-06 22:00:00+00:00  63685.132812  63685.132812  63014.789062   \n",
            "\n",
            "Price           Open     Volume  tf  \n",
            "Ticker       BTC-EUR    BTC-EUR      \n",
            "0       62998.398438          0  1h  \n",
            "1       63008.199219          0  1h  \n",
            "2       62964.742188          0  1h  \n",
            "3       63074.906250          0  1h  \n",
            "4       63014.789062  390046720  1h  \n",
            "\n",
            "=== 1D ===\n",
            "Price        Date       Close        High         Low        Open    Volume  \\\n",
            "Ticker                BTC-EUR     BTC-EUR     BTC-EUR     BTC-EUR   BTC-EUR   \n",
            "0      2014-09-17  355.957367  361.468506  351.586884  359.546204  16389166   \n",
            "1      2014-09-18  328.539368  355.505402  319.789459  355.588409  26691849   \n",
            "2      2014-09-19  307.761139  330.936707  298.921021  328.278503  29560103   \n",
            "3      2014-09-20  318.758972  329.978180  303.931244  307.665253  28736826   \n",
            "4      2014-09-21  310.632446  321.504517  306.502197  318.120514  20702625   \n",
            "\n",
            "Price   tf  \n",
            "Ticker      \n",
            "0       1d  \n",
            "1       1d  \n",
            "2       1d  \n",
            "3       1d  \n",
            "4       1d  \n"
          ]
        }
      ]
    },
    {
      "cell_type": "code",
      "source": [
        "# Нормализация всех фреймов перед индикаторами\n",
        "def normalize_columns(frames):\n",
        "    for tf, df in frames.items():\n",
        "        if isinstance(df.columns, pd.MultiIndex):\n",
        "            df.columns = df.columns.get_level_values(1)  # Берём нижний уровень названия\n",
        "        df.columns = [\"Datetime\", \"Close\", \"High\", \"Low\", \"Open\", \"Volume\", \"tf\"]\n",
        "        frames[tf] = df\n",
        "    return frames\n",
        "\n",
        "frames = normalize_columns(frames)\n"
      ],
      "metadata": {
        "id": "hkp876fe8-KL"
      },
      "execution_count": null,
      "outputs": []
    },
    {
      "cell_type": "code",
      "source": [
        "!pip install ta\n",
        "\n",
        "import ta\n",
        "\n",
        "def calculate_indicators(frames):\n",
        "    all_dfs = []\n",
        "    for tf, df in frames.items():\n",
        "        df = df.copy()\n",
        "        df.sort_values(\"Datetime\", inplace=True)\n",
        "        prefix = f\"{tf}_\"\n",
        "\n",
        "        # Индикаторы\n",
        "        df[prefix + \"rsi\"] = ta.momentum.RSIIndicator(close=df['Close']).rsi()\n",
        "        df[prefix + \"ema12\"] = ta.trend.EMAIndicator(close=df['Close'], window=12).ema_indicator()\n",
        "        df[prefix + \"ema26\"] = ta.trend.EMAIndicator(close=df['Close'], window=26).ema_indicator()\n",
        "        df[prefix + \"ma7\"] = df['Close'].rolling(window=7).mean()\n",
        "        df[prefix + \"ma25\"] = df['Close'].rolling(window=25).mean()\n",
        "\n",
        "        macd = ta.trend.MACD(close=df['Close'])\n",
        "        df[prefix + 'macd'] = macd.macd()\n",
        "        df[prefix + 'macd_signal'] = macd.macd_signal()\n",
        "\n",
        "        bb = ta.volatility.BollingerBands(close=df['Close'])\n",
        "        df[prefix + 'bb_high'] = bb.bollinger_hband()\n",
        "        df[prefix + 'bb_low'] = bb.bollinger_lband()\n",
        "        df[prefix + 'bb_width'] = bb.bollinger_wband()\n",
        "\n",
        "        df[prefix + 'obv'] = ta.volume.OnBalanceVolumeIndicator(close=df['Close'], volume=df['Volume']).on_balance_volume()\n",
        "        df[prefix + 'atr'] = ta.volatility.AverageTrueRange(high=df['High'], low=df['Low'], close=df['Close']).average_true_range()\n",
        "        df[prefix + 'volume_rolling'] = df['Volume'].rolling(window=5).mean()\n",
        "\n",
        "        # Чистим NaN по индикаторам (внутри каждого таймфрейма)\n",
        "        indicators = [col for col in df.columns if col.startswith(prefix)]\n",
        "        df = df.dropna(subset=indicators)\n",
        "        all_dfs.append(df)\n",
        "\n",
        "    result_df = pd.concat(all_dfs).reset_index(drop=True)\n",
        "    result_df.to_csv(\"/content/BTC_EUR_features_clean.csv\", index=False)\n",
        "    print(f\"\\n✅ Индикаторы рассчитаны. Готово строк: {len(result_df)}\")\n",
        "    return result_df\n",
        "\n",
        "df_features = calculate_indicators(frames)\n",
        "df_features.head()\n"
      ],
      "metadata": {
        "colab": {
          "base_uri": "https://localhost:8080/",
          "height": 669
        },
        "id": "13aOWWg18e-Q",
        "outputId": "324f241b-7d12-4c26-9458-994c4b5f0709"
      },
      "execution_count": null,
      "outputs": [
        {
          "output_type": "stream",
          "name": "stdout",
          "text": [
            "Collecting ta\n",
            "  Downloading ta-0.11.0.tar.gz (25 kB)\n",
            "  Preparing metadata (setup.py) ... \u001b[?25l\u001b[?25hdone\n",
            "Requirement already satisfied: numpy in /usr/local/lib/python3.11/dist-packages (from ta) (2.0.2)\n",
            "Requirement already satisfied: pandas in /usr/local/lib/python3.11/dist-packages (from ta) (2.2.2)\n",
            "Requirement already satisfied: python-dateutil>=2.8.2 in /usr/local/lib/python3.11/dist-packages (from pandas->ta) (2.8.2)\n",
            "Requirement already satisfied: pytz>=2020.1 in /usr/local/lib/python3.11/dist-packages (from pandas->ta) (2025.2)\n",
            "Requirement already satisfied: tzdata>=2022.7 in /usr/local/lib/python3.11/dist-packages (from pandas->ta) (2025.2)\n",
            "Requirement already satisfied: six>=1.5 in /usr/local/lib/python3.11/dist-packages (from python-dateutil>=2.8.2->pandas->ta) (1.17.0)\n",
            "Building wheels for collected packages: ta\n",
            "  Building wheel for ta (setup.py) ... \u001b[?25l\u001b[?25hdone\n",
            "  Created wheel for ta: filename=ta-0.11.0-py3-none-any.whl size=29412 sha256=4bbf1ab10920978dfe880b04176fcf3a05783609eb08fefbef0ed849a77c2db0\n",
            "  Stored in directory: /root/.cache/pip/wheels/a1/d7/29/7781cc5eb9a3659d032d7d15bdd0f49d07d2b24fec29f44bc4\n",
            "Successfully built ta\n",
            "Installing collected packages: ta\n",
            "Successfully installed ta-0.11.0\n",
            "\n",
            "✅ Индикаторы рассчитаны. Готово строк: 21091\n"
          ]
        },
        {
          "output_type": "execute_result",
          "data": {
            "text/plain": [
              "                    Datetime         Close          High           Low  \\\n",
              "0  2025-02-06 08:15:00+00:00  94637.539062  94709.195312  94598.093750   \n",
              "1  2025-02-06 08:30:00+00:00  94666.671875  94725.250000  94604.390625   \n",
              "2  2025-02-06 08:45:00+00:00  94734.796875  94814.085938  94648.171875   \n",
              "3  2025-02-06 09:00:00+00:00  95202.726562  95202.726562  94728.757812   \n",
              "4  2025-02-06 09:15:00+00:00  95083.562500  95314.476562  95083.562500   \n",
              "\n",
              "           Open     Volume   tf    15m_rsi     15m_ema12     15m_ema26  ...  \\\n",
              "0  94673.507812  206950400  15m  72.703769  94466.812644  94152.959499  ...   \n",
              "1  94685.625000  530202624  15m  73.401977  94497.560218  94191.012267  ...   \n",
              "2  94661.273438  676114432  15m  75.011619  94534.058165  94231.292609  ...   \n",
              "3  94728.757812  610758656  15m  82.738658  94636.930227  94303.250679  ...   \n",
              "4  95215.460938  626098176  15m  76.270495  94705.642884  94361.051555  ...   \n",
              "\n",
              "   1d_ma7  1d_ma25  1d_macd  1d_macd_signal  1d_bb_high  1d_bb_low  \\\n",
              "0     NaN      NaN      NaN             NaN         NaN        NaN   \n",
              "1     NaN      NaN      NaN             NaN         NaN        NaN   \n",
              "2     NaN      NaN      NaN             NaN         NaN        NaN   \n",
              "3     NaN      NaN      NaN             NaN         NaN        NaN   \n",
              "4     NaN      NaN      NaN             NaN         NaN        NaN   \n",
              "\n",
              "   1d_bb_width  1d_obv  1d_atr  1d_volume_rolling  \n",
              "0          NaN     NaN     NaN                NaN  \n",
              "1          NaN     NaN     NaN                NaN  \n",
              "2          NaN     NaN     NaN                NaN  \n",
              "3          NaN     NaN     NaN                NaN  \n",
              "4          NaN     NaN     NaN                NaN  \n",
              "\n",
              "[5 rows x 59 columns]"
            ],
            "text/html": [
              "\n",
              "  <div id=\"df-3b417bc4-1e67-4cb2-9f06-e49351a6c90a\" class=\"colab-df-container\">\n",
              "    <div>\n",
              "<style scoped>\n",
              "    .dataframe tbody tr th:only-of-type {\n",
              "        vertical-align: middle;\n",
              "    }\n",
              "\n",
              "    .dataframe tbody tr th {\n",
              "        vertical-align: top;\n",
              "    }\n",
              "\n",
              "    .dataframe thead th {\n",
              "        text-align: right;\n",
              "    }\n",
              "</style>\n",
              "<table border=\"1\" class=\"dataframe\">\n",
              "  <thead>\n",
              "    <tr style=\"text-align: right;\">\n",
              "      <th></th>\n",
              "      <th>Datetime</th>\n",
              "      <th>Close</th>\n",
              "      <th>High</th>\n",
              "      <th>Low</th>\n",
              "      <th>Open</th>\n",
              "      <th>Volume</th>\n",
              "      <th>tf</th>\n",
              "      <th>15m_rsi</th>\n",
              "      <th>15m_ema12</th>\n",
              "      <th>15m_ema26</th>\n",
              "      <th>...</th>\n",
              "      <th>1d_ma7</th>\n",
              "      <th>1d_ma25</th>\n",
              "      <th>1d_macd</th>\n",
              "      <th>1d_macd_signal</th>\n",
              "      <th>1d_bb_high</th>\n",
              "      <th>1d_bb_low</th>\n",
              "      <th>1d_bb_width</th>\n",
              "      <th>1d_obv</th>\n",
              "      <th>1d_atr</th>\n",
              "      <th>1d_volume_rolling</th>\n",
              "    </tr>\n",
              "  </thead>\n",
              "  <tbody>\n",
              "    <tr>\n",
              "      <th>0</th>\n",
              "      <td>2025-02-06 08:15:00+00:00</td>\n",
              "      <td>94637.539062</td>\n",
              "      <td>94709.195312</td>\n",
              "      <td>94598.093750</td>\n",
              "      <td>94673.507812</td>\n",
              "      <td>206950400</td>\n",
              "      <td>15m</td>\n",
              "      <td>72.703769</td>\n",
              "      <td>94466.812644</td>\n",
              "      <td>94152.959499</td>\n",
              "      <td>...</td>\n",
              "      <td>NaN</td>\n",
              "      <td>NaN</td>\n",
              "      <td>NaN</td>\n",
              "      <td>NaN</td>\n",
              "      <td>NaN</td>\n",
              "      <td>NaN</td>\n",
              "      <td>NaN</td>\n",
              "      <td>NaN</td>\n",
              "      <td>NaN</td>\n",
              "      <td>NaN</td>\n",
              "    </tr>\n",
              "    <tr>\n",
              "      <th>1</th>\n",
              "      <td>2025-02-06 08:30:00+00:00</td>\n",
              "      <td>94666.671875</td>\n",
              "      <td>94725.250000</td>\n",
              "      <td>94604.390625</td>\n",
              "      <td>94685.625000</td>\n",
              "      <td>530202624</td>\n",
              "      <td>15m</td>\n",
              "      <td>73.401977</td>\n",
              "      <td>94497.560218</td>\n",
              "      <td>94191.012267</td>\n",
              "      <td>...</td>\n",
              "      <td>NaN</td>\n",
              "      <td>NaN</td>\n",
              "      <td>NaN</td>\n",
              "      <td>NaN</td>\n",
              "      <td>NaN</td>\n",
              "      <td>NaN</td>\n",
              "      <td>NaN</td>\n",
              "      <td>NaN</td>\n",
              "      <td>NaN</td>\n",
              "      <td>NaN</td>\n",
              "    </tr>\n",
              "    <tr>\n",
              "      <th>2</th>\n",
              "      <td>2025-02-06 08:45:00+00:00</td>\n",
              "      <td>94734.796875</td>\n",
              "      <td>94814.085938</td>\n",
              "      <td>94648.171875</td>\n",
              "      <td>94661.273438</td>\n",
              "      <td>676114432</td>\n",
              "      <td>15m</td>\n",
              "      <td>75.011619</td>\n",
              "      <td>94534.058165</td>\n",
              "      <td>94231.292609</td>\n",
              "      <td>...</td>\n",
              "      <td>NaN</td>\n",
              "      <td>NaN</td>\n",
              "      <td>NaN</td>\n",
              "      <td>NaN</td>\n",
              "      <td>NaN</td>\n",
              "      <td>NaN</td>\n",
              "      <td>NaN</td>\n",
              "      <td>NaN</td>\n",
              "      <td>NaN</td>\n",
              "      <td>NaN</td>\n",
              "    </tr>\n",
              "    <tr>\n",
              "      <th>3</th>\n",
              "      <td>2025-02-06 09:00:00+00:00</td>\n",
              "      <td>95202.726562</td>\n",
              "      <td>95202.726562</td>\n",
              "      <td>94728.757812</td>\n",
              "      <td>94728.757812</td>\n",
              "      <td>610758656</td>\n",
              "      <td>15m</td>\n",
              "      <td>82.738658</td>\n",
              "      <td>94636.930227</td>\n",
              "      <td>94303.250679</td>\n",
              "      <td>...</td>\n",
              "      <td>NaN</td>\n",
              "      <td>NaN</td>\n",
              "      <td>NaN</td>\n",
              "      <td>NaN</td>\n",
              "      <td>NaN</td>\n",
              "      <td>NaN</td>\n",
              "      <td>NaN</td>\n",
              "      <td>NaN</td>\n",
              "      <td>NaN</td>\n",
              "      <td>NaN</td>\n",
              "    </tr>\n",
              "    <tr>\n",
              "      <th>4</th>\n",
              "      <td>2025-02-06 09:15:00+00:00</td>\n",
              "      <td>95083.562500</td>\n",
              "      <td>95314.476562</td>\n",
              "      <td>95083.562500</td>\n",
              "      <td>95215.460938</td>\n",
              "      <td>626098176</td>\n",
              "      <td>15m</td>\n",
              "      <td>76.270495</td>\n",
              "      <td>94705.642884</td>\n",
              "      <td>94361.051555</td>\n",
              "      <td>...</td>\n",
              "      <td>NaN</td>\n",
              "      <td>NaN</td>\n",
              "      <td>NaN</td>\n",
              "      <td>NaN</td>\n",
              "      <td>NaN</td>\n",
              "      <td>NaN</td>\n",
              "      <td>NaN</td>\n",
              "      <td>NaN</td>\n",
              "      <td>NaN</td>\n",
              "      <td>NaN</td>\n",
              "    </tr>\n",
              "  </tbody>\n",
              "</table>\n",
              "<p>5 rows × 59 columns</p>\n",
              "</div>\n",
              "    <div class=\"colab-df-buttons\">\n",
              "\n",
              "  <div class=\"colab-df-container\">\n",
              "    <button class=\"colab-df-convert\" onclick=\"convertToInteractive('df-3b417bc4-1e67-4cb2-9f06-e49351a6c90a')\"\n",
              "            title=\"Convert this dataframe to an interactive table.\"\n",
              "            style=\"display:none;\">\n",
              "\n",
              "  <svg xmlns=\"http://www.w3.org/2000/svg\" height=\"24px\" viewBox=\"0 -960 960 960\">\n",
              "    <path d=\"M120-120v-720h720v720H120Zm60-500h600v-160H180v160Zm220 220h160v-160H400v160Zm0 220h160v-160H400v160ZM180-400h160v-160H180v160Zm440 0h160v-160H620v160ZM180-180h160v-160H180v160Zm440 0h160v-160H620v160Z\"/>\n",
              "  </svg>\n",
              "    </button>\n",
              "\n",
              "  <style>\n",
              "    .colab-df-container {\n",
              "      display:flex;\n",
              "      gap: 12px;\n",
              "    }\n",
              "\n",
              "    .colab-df-convert {\n",
              "      background-color: #E8F0FE;\n",
              "      border: none;\n",
              "      border-radius: 50%;\n",
              "      cursor: pointer;\n",
              "      display: none;\n",
              "      fill: #1967D2;\n",
              "      height: 32px;\n",
              "      padding: 0 0 0 0;\n",
              "      width: 32px;\n",
              "    }\n",
              "\n",
              "    .colab-df-convert:hover {\n",
              "      background-color: #E2EBFA;\n",
              "      box-shadow: 0px 1px 2px rgba(60, 64, 67, 0.3), 0px 1px 3px 1px rgba(60, 64, 67, 0.15);\n",
              "      fill: #174EA6;\n",
              "    }\n",
              "\n",
              "    .colab-df-buttons div {\n",
              "      margin-bottom: 4px;\n",
              "    }\n",
              "\n",
              "    [theme=dark] .colab-df-convert {\n",
              "      background-color: #3B4455;\n",
              "      fill: #D2E3FC;\n",
              "    }\n",
              "\n",
              "    [theme=dark] .colab-df-convert:hover {\n",
              "      background-color: #434B5C;\n",
              "      box-shadow: 0px 1px 3px 1px rgba(0, 0, 0, 0.15);\n",
              "      filter: drop-shadow(0px 1px 2px rgba(0, 0, 0, 0.3));\n",
              "      fill: #FFFFFF;\n",
              "    }\n",
              "  </style>\n",
              "\n",
              "    <script>\n",
              "      const buttonEl =\n",
              "        document.querySelector('#df-3b417bc4-1e67-4cb2-9f06-e49351a6c90a button.colab-df-convert');\n",
              "      buttonEl.style.display =\n",
              "        google.colab.kernel.accessAllowed ? 'block' : 'none';\n",
              "\n",
              "      async function convertToInteractive(key) {\n",
              "        const element = document.querySelector('#df-3b417bc4-1e67-4cb2-9f06-e49351a6c90a');\n",
              "        const dataTable =\n",
              "          await google.colab.kernel.invokeFunction('convertToInteractive',\n",
              "                                                    [key], {});\n",
              "        if (!dataTable) return;\n",
              "\n",
              "        const docLinkHtml = 'Like what you see? Visit the ' +\n",
              "          '<a target=\"_blank\" href=https://colab.research.google.com/notebooks/data_table.ipynb>data table notebook</a>'\n",
              "          + ' to learn more about interactive tables.';\n",
              "        element.innerHTML = '';\n",
              "        dataTable['output_type'] = 'display_data';\n",
              "        await google.colab.output.renderOutput(dataTable, element);\n",
              "        const docLink = document.createElement('div');\n",
              "        docLink.innerHTML = docLinkHtml;\n",
              "        element.appendChild(docLink);\n",
              "      }\n",
              "    </script>\n",
              "  </div>\n",
              "\n",
              "\n",
              "<div id=\"df-bb0f026d-8d8d-450e-be98-0711e058e3ad\">\n",
              "  <button class=\"colab-df-quickchart\" onclick=\"quickchart('df-bb0f026d-8d8d-450e-be98-0711e058e3ad')\"\n",
              "            title=\"Suggest charts\"\n",
              "            style=\"display:none;\">\n",
              "\n",
              "<svg xmlns=\"http://www.w3.org/2000/svg\" height=\"24px\"viewBox=\"0 0 24 24\"\n",
              "     width=\"24px\">\n",
              "    <g>\n",
              "        <path d=\"M19 3H5c-1.1 0-2 .9-2 2v14c0 1.1.9 2 2 2h14c1.1 0 2-.9 2-2V5c0-1.1-.9-2-2-2zM9 17H7v-7h2v7zm4 0h-2V7h2v10zm4 0h-2v-4h2v4z\"/>\n",
              "    </g>\n",
              "</svg>\n",
              "  </button>\n",
              "\n",
              "<style>\n",
              "  .colab-df-quickchart {\n",
              "      --bg-color: #E8F0FE;\n",
              "      --fill-color: #1967D2;\n",
              "      --hover-bg-color: #E2EBFA;\n",
              "      --hover-fill-color: #174EA6;\n",
              "      --disabled-fill-color: #AAA;\n",
              "      --disabled-bg-color: #DDD;\n",
              "  }\n",
              "\n",
              "  [theme=dark] .colab-df-quickchart {\n",
              "      --bg-color: #3B4455;\n",
              "      --fill-color: #D2E3FC;\n",
              "      --hover-bg-color: #434B5C;\n",
              "      --hover-fill-color: #FFFFFF;\n",
              "      --disabled-bg-color: #3B4455;\n",
              "      --disabled-fill-color: #666;\n",
              "  }\n",
              "\n",
              "  .colab-df-quickchart {\n",
              "    background-color: var(--bg-color);\n",
              "    border: none;\n",
              "    border-radius: 50%;\n",
              "    cursor: pointer;\n",
              "    display: none;\n",
              "    fill: var(--fill-color);\n",
              "    height: 32px;\n",
              "    padding: 0;\n",
              "    width: 32px;\n",
              "  }\n",
              "\n",
              "  .colab-df-quickchart:hover {\n",
              "    background-color: var(--hover-bg-color);\n",
              "    box-shadow: 0 1px 2px rgba(60, 64, 67, 0.3), 0 1px 3px 1px rgba(60, 64, 67, 0.15);\n",
              "    fill: var(--button-hover-fill-color);\n",
              "  }\n",
              "\n",
              "  .colab-df-quickchart-complete:disabled,\n",
              "  .colab-df-quickchart-complete:disabled:hover {\n",
              "    background-color: var(--disabled-bg-color);\n",
              "    fill: var(--disabled-fill-color);\n",
              "    box-shadow: none;\n",
              "  }\n",
              "\n",
              "  .colab-df-spinner {\n",
              "    border: 2px solid var(--fill-color);\n",
              "    border-color: transparent;\n",
              "    border-bottom-color: var(--fill-color);\n",
              "    animation:\n",
              "      spin 1s steps(1) infinite;\n",
              "  }\n",
              "\n",
              "  @keyframes spin {\n",
              "    0% {\n",
              "      border-color: transparent;\n",
              "      border-bottom-color: var(--fill-color);\n",
              "      border-left-color: var(--fill-color);\n",
              "    }\n",
              "    20% {\n",
              "      border-color: transparent;\n",
              "      border-left-color: var(--fill-color);\n",
              "      border-top-color: var(--fill-color);\n",
              "    }\n",
              "    30% {\n",
              "      border-color: transparent;\n",
              "      border-left-color: var(--fill-color);\n",
              "      border-top-color: var(--fill-color);\n",
              "      border-right-color: var(--fill-color);\n",
              "    }\n",
              "    40% {\n",
              "      border-color: transparent;\n",
              "      border-right-color: var(--fill-color);\n",
              "      border-top-color: var(--fill-color);\n",
              "    }\n",
              "    60% {\n",
              "      border-color: transparent;\n",
              "      border-right-color: var(--fill-color);\n",
              "    }\n",
              "    80% {\n",
              "      border-color: transparent;\n",
              "      border-right-color: var(--fill-color);\n",
              "      border-bottom-color: var(--fill-color);\n",
              "    }\n",
              "    90% {\n",
              "      border-color: transparent;\n",
              "      border-bottom-color: var(--fill-color);\n",
              "    }\n",
              "  }\n",
              "</style>\n",
              "\n",
              "  <script>\n",
              "    async function quickchart(key) {\n",
              "      const quickchartButtonEl =\n",
              "        document.querySelector('#' + key + ' button');\n",
              "      quickchartButtonEl.disabled = true;  // To prevent multiple clicks.\n",
              "      quickchartButtonEl.classList.add('colab-df-spinner');\n",
              "      try {\n",
              "        const charts = await google.colab.kernel.invokeFunction(\n",
              "            'suggestCharts', [key], {});\n",
              "      } catch (error) {\n",
              "        console.error('Error during call to suggestCharts:', error);\n",
              "      }\n",
              "      quickchartButtonEl.classList.remove('colab-df-spinner');\n",
              "      quickchartButtonEl.classList.add('colab-df-quickchart-complete');\n",
              "    }\n",
              "    (() => {\n",
              "      let quickchartButtonEl =\n",
              "        document.querySelector('#df-bb0f026d-8d8d-450e-be98-0711e058e3ad button');\n",
              "      quickchartButtonEl.style.display =\n",
              "        google.colab.kernel.accessAllowed ? 'block' : 'none';\n",
              "    })();\n",
              "  </script>\n",
              "</div>\n",
              "\n",
              "    </div>\n",
              "  </div>\n"
            ],
            "application/vnd.google.colaboratory.intrinsic+json": {
              "type": "dataframe",
              "variable_name": "df_features"
            }
          },
          "metadata": {},
          "execution_count": 8
        }
      ]
    },
    {
      "cell_type": "code",
      "source": [
        "# Mount Google Drive to access the save path.\n",
        "from google.colab import drive\n",
        "drive.mount('/content/drive')\n",
        "\n",
        "# Create the 'bot_data' directory if it doesn't exist\n",
        "import os\n",
        "if not os.path.exists('/content/drive/MyDrive/bot_data'):\n",
        "    os.makedirs('/content/drive/MyDrive/bot_data')\n",
        "\n",
        "# Rest of your code...\n",
        "df_features.to_csv('/content/drive/MyDrive/bot_data/BTC_EUR_features_clean.csv', index=False)\n",
        "print(\"📦 Файл сохранён: BTC_EUR_features_clean.csv\")"
      ],
      "metadata": {
        "colab": {
          "base_uri": "https://localhost:8080/"
        },
        "id": "_O_8VKKgVfNX",
        "outputId": "a296d686-7ac3-4b6e-bad1-cd774743b81d"
      },
      "execution_count": null,
      "outputs": [
        {
          "output_type": "stream",
          "name": "stdout",
          "text": [
            "Drive already mounted at /content/drive; to attempt to forcibly remount, call drive.mount(\"/content/drive\", force_remount=True).\n",
            "📦 Файл сохранён: BTC_EUR_features_clean.csv\n"
          ]
        }
      ]
    },
    {
      "cell_type": "code",
      "source": [
        "# Mount Google Drive to access the save path.\n",
        "from google.colab import drive\n",
        "drive.mount('/content/drive')\n",
        "\n",
        "# Rest of your code...\n",
        "df_features.to_csv('/content/drive/MyDrive/bot_data/BTC_EUR_features_clean.csv', index=False)\n",
        "print(\"📦 Файл сохранён: BTC_EUR_features_clean.csv\")"
      ],
      "metadata": {
        "colab": {
          "base_uri": "https://localhost:8080/"
        },
        "id": "2oCjuPKRVVJz",
        "outputId": "90fe77e0-1362-4d11-9c2d-c1df7f72ec37"
      },
      "execution_count": null,
      "outputs": [
        {
          "output_type": "stream",
          "name": "stdout",
          "text": [
            "Drive already mounted at /content/drive; to attempt to forcibly remount, call drive.mount(\"/content/drive\", force_remount=True).\n",
            "📦 Файл сохранён: BTC_EUR_features_clean.csv\n"
          ]
        }
      ]
    },
    {
      "cell_type": "code",
      "source": [
        "# Сохраняем датафрейм с индикаторами в CSV\n",
        "df_features.to_csv('/content/drive/MyDrive/bot_data/BTC_EUR_features_clean.csv', index=False)\n",
        "\n",
        "print(\"📦 Файл сохранён: BTC_EUR_features_clean.csv\")\n"
      ],
      "metadata": {
        "colab": {
          "base_uri": "https://localhost:8080/"
        },
        "id": "rtPPj0Aj_j4l",
        "outputId": "451bf22c-e0c9-4560-8f9a-a16b57afeb58"
      },
      "execution_count": null,
      "outputs": [
        {
          "output_type": "stream",
          "name": "stdout",
          "text": [
            "📦 Файл сохранён: BTC_EUR_features_clean.csv\n"
          ]
        }
      ]
    },
    {
      "source": [
        "from google.colab import drive\n",
        "drive.mount('/content/drive')"
      ],
      "cell_type": "code",
      "metadata": {
        "colab": {
          "base_uri": "https://localhost:8080/"
        },
        "id": "Swqk_GyoVIWb",
        "outputId": "9d659f02-8e70-4f3b-badd-a139b9cc9e44"
      },
      "execution_count": null,
      "outputs": [
        {
          "output_type": "stream",
          "name": "stdout",
          "text": [
            "Drive already mounted at /content/drive; to attempt to forcibly remount, call drive.mount(\"/content/drive\", force_remount=True).\n"
          ]
        }
      ]
    },
    {
      "cell_type": "code",
      "source": [
        "import pandas as pd\n",
        "\n",
        "# === 1. Загрузка фичейного датафрейма ===\n",
        "df = pd.read_csv('/content/drive/MyDrive/bot_data/BTC_EUR_features_clean.csv')\n",
        "\n",
        "# === 2. Параметры оценки сигнала ===\n",
        "FUTURE_PERIOD = 4  # Сколько свечей вперёд смотреть (например, 4 свечи по 15m = 1 час)\n",
        "PROFIT_THRESHOLD = 0.005  # +0.5% от текущей цены — считаем успехом\n",
        "LOSS_THRESHOLD = -0.005   # -0.5% — считаем неудачей\n",
        "\n",
        "# === 3. Готовим вспомогательные колонки ===\n",
        "df.sort_values('Datetime', inplace=True)\n",
        "df = df.reset_index(drop=True)\n",
        "\n",
        "# Считаем \"будущее\" изменение цены через N свечей\n",
        "df['future_close'] = df['Close'].shift(-FUTURE_PERIOD)\n",
        "\n",
        "# Расчёт дельты (в процентах)\n",
        "df['pct_change'] = (df['future_close'] - df['Close']) / df['Close']\n",
        "\n",
        "# === 4. Генерация таргета на основе порогов ===\n",
        "def label_trade_outcome(change):\n",
        "    if change >= PROFIT_THRESHOLD:\n",
        "        return 1   # Сигнал успешный (прибыльный)\n",
        "    elif change <= LOSS_THRESHOLD:\n",
        "        return 0   # Сигнал неуспешный\n",
        "    else:\n",
        "        return None  # Неопределённый — исключаем\n",
        "\n",
        "df['target'] = df['pct_change'].apply(label_trade_outcome)\n",
        "\n",
        "# === 5. Очистка от пустых target (те, что в серой зоне между loss/profit)\n",
        "df = df.dropna(subset=['target'])\n",
        "df['target'] = df['target'].astype(int)  # Явно приводим к int\n",
        "\n",
        "# === 6. Убираем вспомогательные колонки (если нужно)\n",
        "df.drop(['future_close', 'pct_change'], axis=1, inplace=True)\n",
        "\n",
        "# === 7. Сохраняем результат\n",
        "df.to_csv('/content/drive/MyDrive/bot_data/BTC_EUR_with_target.csv', index=False)\n",
        "print(f\"✅ Цель добавлена. Строк для обучения: {len(df)}\")\n",
        "print(df[['Datetime', 'Close', 'target']].head())\n"
      ],
      "metadata": {
        "colab": {
          "base_uri": "https://localhost:8080/"
        },
        "id": "8JujnRTIJGBk",
        "outputId": "6da71a7c-1434-4a89-855e-dce347cf8015"
      },
      "execution_count": null,
      "outputs": [
        {
          "output_type": "stream",
          "name": "stdout",
          "text": [
            "✅ Цель добавлена. Строк для обучения: 8180\n",
            "              Datetime       Close  target\n",
            "0  2014-10-20 00:00:00  299.214539       0\n",
            "1  2014-10-21 00:00:00  304.023773       0\n",
            "2  2014-10-22 00:00:00  303.107330       0\n",
            "3  2014-10-23 00:00:00  283.355988       0\n",
            "4  2014-10-24 00:00:00  282.829529       0\n"
          ]
        }
      ]
    },
    {
      "cell_type": "code",
      "source": [
        "import pandas as pd\n",
        "from sklearn.ensemble import RandomForestClassifier\n",
        "from sklearn.model_selection import train_test_split\n",
        "from sklearn.metrics import classification_report, confusion_matrix\n",
        "import joblib\n",
        "\n",
        "# === 1. Загружаем данные ===\n",
        "df = pd.read_csv('/content/drive/MyDrive/bot_data/BTC_EUR_with_target.csv')\n",
        "\n",
        "# === 2. Отделяем фичи от целевой переменной ===\n",
        "# Удаляем служебные колонки\n",
        "X = df.drop(columns=['Datetime', 'tf', 'target'])\n",
        "y = df['target']\n",
        "\n",
        "# === 3. Разделение на train/test ===\n",
        "X_train, X_test, y_train, y_test = train_test_split(\n",
        "    X, y, test_size=0.2, random_state=42, stratify=y\n",
        ")\n",
        "\n",
        "# === 4. Обучаем модель ===\n",
        "model = RandomForestClassifier(n_estimators=100, max_depth=10, random_state=42)\n",
        "model.fit(X_train, y_train)\n",
        "\n",
        "# === 5. Предсказания и отчёт ===\n",
        "y_pred = model.predict(X_test)\n",
        "\n",
        "print(\"🎯 Classification Report:\")\n",
        "print(classification_report(y_test, y_pred))\n",
        "\n",
        "print(\"📉 Confusion Matrix:\")\n",
        "print(confusion_matrix(y_test, y_pred))\n",
        "\n",
        "# === 6. Сохраняем модель\n",
        "joblib.dump(model, '/content/drive/MyDrive/bot_data/rf_model.pkl')\n",
        "print(\"✅ Модель сохранена: rf_model.pkl\")\n"
      ],
      "metadata": {
        "colab": {
          "base_uri": "https://localhost:8080/"
        },
        "id": "hUvChTlWNlBO",
        "outputId": "ca027b20-8bea-4092-d481-76d864a36b66"
      },
      "execution_count": null,
      "outputs": [
        {
          "output_type": "stream",
          "name": "stdout",
          "text": [
            "🎯 Classification Report:\n",
            "              precision    recall  f1-score   support\n",
            "\n",
            "           0       0.68      0.59      0.63       779\n",
            "           1       0.67      0.75      0.70       857\n",
            "\n",
            "    accuracy                           0.67      1636\n",
            "   macro avg       0.67      0.67      0.67      1636\n",
            "weighted avg       0.67      0.67      0.67      1636\n",
            "\n",
            "📉 Confusion Matrix:\n",
            "[[458 321]\n",
            " [216 641]]\n",
            "✅ Модель сохранена: rf_model.pkl\n"
          ]
        }
      ]
    },
    {
      "cell_type": "code",
      "source": [
        "import pandas as pd\n",
        "import joblib\n",
        "import matplotlib.pyplot as plt\n",
        "\n",
        "# Загружаем обучающую выборку и модель\n",
        "df = pd.read_csv('/content/drive/MyDrive/bot_data/BTC_EUR_with_target.csv')\n",
        "model = joblib.load('/content/drive/MyDrive/bot_data/rf_model.pkl')\n",
        "\n",
        "# Отделяем фичи и цель\n",
        "X = df.drop(columns=['Datetime', 'tf', 'target'])\n",
        "y = df['target']\n"
      ],
      "metadata": {
        "id": "SlLM6gKzQZiq"
      },
      "execution_count": null,
      "outputs": []
    },
    {
      "cell_type": "code",
      "source": [
        "import numpy as np\n",
        "\n",
        "# Получаем важность фичей\n",
        "importances = model.feature_importances_\n",
        "feature_names = X.columns\n",
        "\n",
        "# Объединяем в таблицу\n",
        "feat_df = pd.DataFrame({\n",
        "    'feature': feature_names,\n",
        "    'importance': importances\n",
        "}).sort_values(by='importance', ascending=False)\n",
        "\n",
        "# Смотрим топ-20\n",
        "print(feat_df.head(20))\n",
        "\n",
        "# Строим график\n",
        "plt.figure(figsize=(12, 6))\n",
        "plt.barh(feat_df['feature'].head(20), feat_df['importance'].head(20))\n",
        "plt.gca().invert_yaxis()\n",
        "plt.title(\"🔥 Топ-20 самых важных признаков\")\n",
        "plt.xlabel(\"Importance\")\n",
        "plt.grid(True)\n",
        "plt.tight_layout()\n",
        "plt.show()\n"
      ],
      "metadata": {
        "colab": {
          "base_uri": "https://localhost:8080/",
          "height": 1000
        },
        "id": "mUnGmrF8Qb4s",
        "outputId": "d4949f78-d7ba-4016-c835-10807b7c633a"
      },
      "execution_count": null,
      "outputs": [
        {
          "output_type": "stream",
          "name": "stdout",
          "text": [
            "           feature  importance\n",
            "0            Close    0.051272\n",
            "1             High    0.049638\n",
            "2              Low    0.047236\n",
            "3             Open    0.047064\n",
            "4           Volume    0.035660\n",
            "44          1d_rsi    0.031608\n",
            "41          1h_obv    0.030287\n",
            "55          1d_atr    0.026280\n",
            "50  1d_macd_signal    0.025492\n",
            "35         1h_ma25    0.024479\n",
            "42          1h_atr    0.023289\n",
            "36         1h_macd    0.023142\n",
            "53     1d_bb_width    0.023128\n",
            "39       1h_bb_low    0.023033\n",
            "54          1d_obv    0.022067\n",
            "33        1h_ema26    0.021700\n",
            "37  1h_macd_signal    0.021688\n",
            "52       1d_bb_low    0.021485\n",
            "46        1d_ema26    0.021213\n",
            "38      1h_bb_high    0.020899\n"
          ]
        },
        {
          "output_type": "stream",
          "name": "stderr",
          "text": [
            "<ipython-input-20-6aaaf16be876>:23: UserWarning: Glyph 128293 (\\N{FIRE}) missing from font(s) DejaVu Sans.\n",
            "  plt.tight_layout()\n",
            "/usr/local/lib/python3.11/dist-packages/IPython/core/pylabtools.py:151: UserWarning: Glyph 128293 (\\N{FIRE}) missing from font(s) DejaVu Sans.\n",
            "  fig.canvas.print_figure(bytes_io, **kw)\n"
          ]
        },
        {
          "output_type": "display_data",
          "data": {
            "text/plain": [
              "<Figure size 1200x600 with 1 Axes>"
            ],
            "image/png": "[encoded data removed]"
          },
          "metadata": {}
        }
      ]
    },
    {
      "cell_type": "code",
      "source": [
        "# Ос\n",
        "# Оставим только признаки с важностью > 0.005\n",
        "selected_features = feat_df[feat_df['importance'] > 0.005]['feature'].tolist()\n",
        "\n",
        "# Новый X\n",
        "X_filtered = X[selected_features]\n",
        "# Ос\n",
        "# Оставим только признаки с важностью > 0.005\n",
        "selected_features = feat_df[feat_df['importance'] > 0.005]['feature'].tolist()\n",
        "\n",
        "# Новый X\n",
        "X_filtered = X[selected_features]\n",
        "print(f\"🎯 Оставлено признаков: {len(selected_features)}\")\n",
        "\n",
        "# Оставим только признаки с важностью > 0.005\n",
        "selected_features = feat_df[feat_df['importance'] > 0.005]['feature'].tolist()\n",
        "\n",
        "# Новый X\n",
        "X_filtered = X[selected_features]\n",
        "print(f\"🎯 Оставлено признаков: {len(selected_features)}\")\n",
        "# Новый X\n",
        "X_filtered = X[selected_features]\n",
        "print(f\"🎯 Оставлено признаков: {len(selected_features)}\")\n"
      ],
      "metadata": {
        "colab": {
          "base_uri": "https://localhost:8080/"
        },
        "id": "eohTacLmREUB",
        "outputId": "a866ed48-f701-43aa-9772-64370c73617c"
      },
      "execution_count": null,
      "outputs": [
        {
          "output_type": "stream",
          "name": "stdout",
          "text": [
            "🎯 Оставлено признаков: 44\n",
            "🎯 Оставлено признаков: 44\n",
            "🎯 Оставлено признаков: 44\n"
          ]
        }
      ]
    },
    {
      "cell_type": "code",
      "source": [
        "from sklearn.model_selection import train_test_split\n",
        "from sklearn.ensemble import RandomForestClassifier\n",
        "from sklearn.metrics import classification_report, confusion_matrix\n",
        "\n",
        "# Сплит\n",
        "X_train, X_test, y_train, y_test = train_test_split(\n",
        "    X_filtered, y, test_size=0.2, random_state=42, stratify=y\n",
        ")\n",
        "\n",
        "# Обучение\n",
        "model_retrained = RandomForestClassifier(n_estimators=100, max_depth=10, random_state=42)\n",
        "model_retrained.fit(X_train, y_train)\n",
        "\n",
        "# Предсказания\n",
        "y_pred = model_retrained.predict(X_test)\n",
        "\n",
        "# Метрики\n",
        "print(\"🎯 Новый Classification Report:\")\n",
        "print(classification_report(y_test, y_pred))\n",
        "\n",
        "print(\"📉 Новый Confusion Matrix:\")\n",
        "print(confusion_matrix(y_test, y_pred))\n",
        "\n",
        "# Сохраняем\n",
        "joblib.dump(model_retrained, '/content/drive/MyDrive/bot_data/rf_model_filtered.pkl')\n",
        "print(\"✅ Новая модель сохранена: rf_model_filtered.pkl\")\n"
      ],
      "metadata": {
        "colab": {
          "base_uri": "https://localhost:8080/"
        },
        "id": "ryBYwsZaRHPv",
        "outputId": "0a8cf386-8a3f-43a7-b0b1-99416e3419c1"
      },
      "execution_count": null,
      "outputs": [
        {
          "output_type": "stream",
          "name": "stdout",
          "text": [
            "🎯 Новый Classification Report:\n",
            "              precision    recall  f1-score   support\n",
            "\n",
            "           0       0.66      0.59      0.63       779\n",
            "           1       0.66      0.73      0.69       857\n",
            "\n",
            "    accuracy                           0.66      1636\n",
            "   macro avg       0.66      0.66      0.66      1636\n",
            "weighted avg       0.66      0.66      0.66      1636\n",
            "\n",
            "📉 Новый Confusion Matrix:\n",
            "[[461 318]\n",
            " [233 624]]\n",
            "✅ Новая модель сохранена: rf_model_filtered.pkl\n"
          ]
        }
      ]
    },
    {
      "cell_type": "code",
      "source": [
        "import yfinance as yf\n",
        "import pandas as pd\n",
        "import os\n",
        "\n",
        "# === НАСТРОЙКИ ===\n",
        "TICKER = \"BTC-EUR\"\n",
        "INTERVALS = [\"1m\", \"5m\"]\n",
        "PERIOD = \"7d\"  # максимум, что даёт yfinance для 1m\n",
        "\n",
        "SAVE_PATH = \"/content/drive/MyDrive/bot_data\"\n",
        "os.makedirs(SAVE_PATH, exist_ok=True)\n",
        "\n",
        "def fetch_fast_data(ticker, intervals, period):\n",
        "    all_data = []\n",
        "    for tf in intervals:\n",
        "        print(f\"📥 Получаем {ticker} — {tf}\")\n",
        "        df = yf.download(ticker, interval=tf, period=period, progress=False)\n",
        "        if not df.empty:\n",
        "            df.reset_index(inplace=True)\n",
        "            df[\"tf\"] = tf\n",
        "            all_data.append(df)\n",
        "        else:\n",
        "            print(f\"⚠️ Данные пустые для {tf}\")\n",
        "    return all_data\n",
        "\n",
        "frames = fetch_fast_data(TICKER, INTERVALS, PERIOD)\n",
        "\n",
        "# Сохраняем отдельно\n",
        "for df in frames:\n",
        "    tf = df[\"tf\"].iloc[0]\n",
        "    file = os.path.join(SAVE_PATH, f\"BTC_EUR_fast_{tf}.csv\")\n",
        "    df.to_csv(file, index=False)\n",
        "    print(f\"✅ Сохранено: {file}\")\n"
      ],
      "metadata": {
        "colab": {
          "base_uri": "https://localhost:8080/"
        },
        "id": "7m3esL1FVLPG",
        "outputId": "faac523a-ff5a-489e-c1d9-9244c3486f19"
      },
      "execution_count": null,
      "outputs": [
        {
          "output_type": "stream",
          "name": "stdout",
          "text": [
            "📥 Получаем BTC-EUR — 1m\n",
            "📥 Получаем BTC-EUR — 5m\n",
            "✅ Сохранено: /content/drive/MyDrive/bot_data/BTC_EUR_fast_1m.csv\n",
            "✅ Сохранено: /content/drive/MyDrive/bot_data/BTC_EUR_fast_5m.csv\n"
          ]
        }
      ]
    },
    {
      "cell_type": "code",
      "source": [
        "import pandas as pd\n",
        "import os\n",
        "\n",
        "BASE_DIR = \"/content/drive/MyDrive/bot_data\"\n",
        "\n",
        "for tf in [\"1m\", \"5m\"]:\n",
        "    path = os.path.join(BASE_DIR, f\"BTC_EUR_fast_{tf}.csv\")\n",
        "    df = pd.read_csv(path)\n",
        "\n",
        "    # 🧼 Очистка многоуровневых названий\n",
        "    df.columns = [col.split('.')[-1] if isinstance(col, str) else col for col in df.columns]\n",
        "    df.columns = [col.strip().replace(\" \", \"_\") for col in df.columns]\n",
        "\n",
        "    # 🧠 Приводим к нормальному виду типы данных\n",
        "    for col in ['Open', 'High', 'Low', 'Close', 'Volume']:\n",
        "        df[col] = pd.to_numeric(df[col], errors='coerce')\n",
        "\n",
        "    df[\"Datetime\"] = pd.to_datetime(df[\"Datetime\"], errors='coerce')\n",
        "    df[\"tf\"] = tf\n",
        "\n",
        "    # Сохраняем обратно\n",
        "    cleaned_path = os.path.join(BASE_DIR, f\"BTC_EUR_fast_cleaned_{tf}.csv\")\n",
        "    df.to_csv(cleaned_path, index=False)\n",
        "    print(f\"✅ Очищено и сохранено: {cleaned_path}\")\n"
      ],
      "metadata": {
        "colab": {
          "base_uri": "https://localhost:8080/"
        },
        "id": "6zLJqlh1akBJ",
        "outputId": "b744fee5-1bc4-4371-935e-1f36a858f49c"
      },
      "execution_count": null,
      "outputs": [
        {
          "output_type": "stream",
          "name": "stdout",
          "text": [
            "✅ Очищено и сохранено: /content/drive/MyDrive/bot_data/BTC_EUR_fast_cleaned_1m.csv\n",
            "✅ Очищено и сохранено: /content/drive/MyDrive/bot_data/BTC_EUR_fast_cleaned_5m.csv\n"
          ]
        }
      ]
    },
    {
      "cell_type": "code",
      "source": [
        "import pandas as pd\n",
        "import ta\n",
        "import os\n",
        "\n",
        "# === ПУТИ ===\n",
        "BASE_DIR = \"/content/drive/MyDrive/bot_data\"\n",
        "OUTPUT_FILE = os.path.join(BASE_DIR, \"BTC_EUR_fast_features_cleaned.csv\")\n",
        "\n",
        "# === ЧТЕНИЕ CSV (предварительно очищенные по колонкам!) ===\n",
        "dfs = []\n",
        "for tf in [\"1m\", \"5m\"]:\n",
        "    path = os.path.join(BASE_DIR, f\"BTC_EUR_fast_cleaned_{tf}.csv\")\n",
        "    df = pd.read_csv(path)\n",
        "\n",
        "    # Приводим типы к float, а дату — к datetime\n",
        "    for col in ['Open', 'High', 'Low', 'Close', 'Volume']:\n",
        "        df[col] = pd.to_numeric(df[col], errors='coerce')\n",
        "\n",
        "    df[\"Datetime\"] = pd.to_datetime(df[\"Datetime\"], errors='coerce')\n",
        "    df[\"tf\"] = tf\n",
        "    dfs.append(df)\n",
        "\n",
        "# Объединяем\n",
        "df = pd.concat(dfs, ignore_index=True)\n",
        "df.sort_values(\"Datetime\", inplace=True)\n",
        "\n",
        "# === ИНДИКАТОРЫ ===\n",
        "result_frames = []\n",
        "\n",
        "for tf in df[\"tf\"].unique():\n",
        "    sub = df[df[\"tf\"] == tf].copy()\n",
        "\n",
        "    # Удаляем строки, где нет базовых значений\n",
        "    sub = sub.dropna(subset=[\"Close\", \"Open\", \"High\", \"Low\", \"Volume\"]).copy()\n",
        "\n",
        "    # Индикаторы\n",
        "    sub[f\"{tf}_rsi\"] = ta.momentum.RSIIndicator(close=sub[\"Close\"]).rsi()\n",
        "    sub[f\"{tf}_ema12\"] = ta.trend.EMAIndicator(close=sub[\"Close\"], window=12).ema_indicator()\n",
        "    sub[f\"{tf}_ema26\"] = ta.trend.EMAIndicator(close=sub[\"Close\"], window=26).ema_indicator()\n",
        "\n",
        "    macd = ta.trend.MACD(close=sub[\"Close\"])\n",
        "    sub[f\"{tf}_macd\"] = macd.macd()\n",
        "    sub[f\"{tf}_macd_signal\"] = macd.macd_signal()\n",
        "\n",
        "    bb = ta.volatility.BollingerBands(close=sub[\"Close\"])\n",
        "    sub[f\"{tf}_bb_high\"] = bb.bollinger_hband()\n",
        "    sub[f\"{tf}_bb_low\"] = bb.bollinger_lband()\n",
        "    sub[f\"{tf}_bb_width\"] = bb.bollinger_wband()\n",
        "\n",
        "    sub[f\"{tf}_atr\"] = ta.volatility.AverageTrueRange(\n",
        "        high=sub[\"High\"], low=sub[\"Low\"], close=sub[\"Close\"]\n",
        "    ).average_true_range()\n",
        "\n",
        "    sub[f\"{tf}_obv\"] = ta.volume.OnBalanceVolumeIndicator(\n",
        "        close=sub[\"Close\"], volume=sub[\"Volume\"]\n",
        "    ).on_balance_volume()\n",
        "\n",
        "    sub[f\"{tf}_volume_rolling\"] = sub[\"Volume\"].rolling(window=10).sum()\n",
        "\n",
        "    # Удаляем строки с NaN в СВОИХ индикаторах\n",
        "    sub.dropna(inplace=True)\n",
        "\n",
        "    result_frames.append(sub)\n",
        "\n",
        "# === ФИНАЛ ===\n",
        "df_feat = pd.concat(result_frames, ignore_index=True)\n",
        "df_feat.to_csv(OUTPUT_FILE, index=False)\n",
        "\n",
        "print(f\"✅ Индикаторы рассчитаны и сохранены: {OUTPUT_FILE}\")\n",
        "print(f\"🧮 Строк всего: {len(df_feat)}\")\n",
        "print(df_feat.head(3))\n"
      ],
      "metadata": {
        "colab": {
          "base_uri": "https://localhost:8080/"
        },
        "id": "y6XwweSRc73y",
        "outputId": "f4ab5194-f3bf-4493-fd24-dc4b7606312e"
      },
      "execution_count": null,
      "outputs": [
        {
          "output_type": "stream",
          "name": "stdout",
          "text": [
            "✅ Индикаторы рассчитаны и сохранены: /content/drive/MyDrive/bot_data/BTC_EUR_fast_features_cleaned.csv\n",
            "🧮 Строк всего: 9509\n",
            "                   Datetime         Close          High           Low  \\\n",
            "0 2025-03-31 02:45:00+00:00  75694.531250  75694.531250  75608.468750   \n",
            "1 2025-03-31 02:50:00+00:00  75649.265625  75756.851562  75649.265625   \n",
            "2 2025-03-31 02:55:00+00:00  75574.257812  75623.648438  75534.078125   \n",
            "\n",
            "           Open       Volume  tf     5m_rsi      5m_ema12      5m_ema26  ...  \\\n",
            "0  75608.468750  157934592.0  5m  55.784229  75509.070428  75553.429464  ...   \n",
            "1  75756.851562   22415360.0  5m  53.719270  75530.638919  75560.528439  ...   \n",
            "2  75623.648438   60697600.0  5m  50.390590  75537.349518  75561.545429  ...   \n",
            "\n",
            "   1m_ema12  1m_ema26  1m_macd  1m_macd_signal  1m_bb_high  1m_bb_low  \\\n",
            "0       NaN       NaN      NaN             NaN         NaN        NaN   \n",
            "1       NaN       NaN      NaN             NaN         NaN        NaN   \n",
            "2       NaN       NaN      NaN             NaN         NaN        NaN   \n",
            "\n",
            "   1m_bb_width  1m_atr  1m_obv  1m_volume_rolling  \n",
            "0          NaN     NaN     NaN                NaN  \n",
            "1          NaN     NaN     NaN                NaN  \n",
            "2          NaN     NaN     NaN                NaN  \n",
            "\n",
            "[3 rows x 29 columns]\n"
          ]
        }
      ]
    },
    {
      "cell_type": "code",
      "source": [
        "import pandas as pd\n",
        "import os\n",
        "\n",
        "BASE_DIR = \"/content/drive/MyDrive/bot_data\"\n",
        "INPUT_FILE = os.path.join(BASE_DIR, \"BTC_EUR_fast_features_cleaned.csv\")\n",
        "OUTPUT_FILE = os.path.join(BASE_DIR, \"BTC_EUR_fast_labeled.csv\")\n",
        "\n",
        "# === Загрузка ===\n",
        "df = pd.read_csv(INPUT_FILE)\n",
        "df[\"Datetime\"] = pd.to_datetime(df[\"Datetime\"])\n",
        "df.sort_values(\"Datetime\", inplace=True)\n",
        "\n",
        "# === Генерация цели (цена следующей свечи выше текущей) ===\n",
        "df[\"target\"] = df[\"Close\"].shift(-1) > df[\"Close\"]\n",
        "df[\"target\"] = df[\"target\"].astype(int)\n",
        "\n",
        "# === Удаляем последнюю строку (у неё цель = NaN после shift) ===\n",
        "df = df[:-1]\n",
        "\n",
        "# === Сохраняем ===\n",
        "df.to_csv(OUTPUT_FILE, index=False)\n",
        "\n",
        "print(f\"✅ Цель добавлена. Строк для обучения: {len(df)}\")\n",
        "print(df[[\"Datetime\", \"Close\", \"target\"]].head(10))\n"
      ],
      "metadata": {
        "colab": {
          "base_uri": "https://localhost:8080/"
        },
        "id": "4XsARlSveTDP",
        "outputId": "67f1bdc6-ee57-4409-c5b0-32acd19597d9"
      },
      "execution_count": null,
      "outputs": [
        {
          "output_type": "stream",
          "name": "stdout",
          "text": [
            "✅ Цель добавлена. Строк для обучения: 9508\n",
            "                      Datetime         Close  target\n",
            "1916 2025-03-31 00:58:00+00:00  75304.421875       1\n",
            "1917 2025-03-31 01:01:00+00:00  75359.812500       1\n",
            "1918 2025-03-31 01:03:00+00:00  75535.187500       0\n",
            "1919 2025-03-31 01:04:00+00:00  75492.390625       0\n",
            "1920 2025-03-31 01:06:00+00:00  75467.687500       1\n",
            "1921 2025-03-31 01:07:00+00:00  75587.054688       0\n",
            "1922 2025-03-31 01:09:00+00:00  75526.609375       1\n",
            "1923 2025-03-31 01:10:00+00:00  75583.054688       0\n",
            "1924 2025-03-31 01:12:00+00:00  75525.476562       0\n",
            "1925 2025-03-31 01:13:00+00:00  75506.250000       1\n"
          ]
        }
      ]
    },
    {
      "cell_type": "code",
      "source": [
        "DATA_FILE = \"/content/drive/MyDrive/bot_data/BTC_EUR_fast_labeled.csv\" # Define the DATA_FILE variable\n",
        "df = pd.read_csv(DATA_FILE)\n",
        "print(\"Всего строк до очистки:\", len(df))"
      ],
      "metadata": {
        "colab": {
          "base_uri": "https://localhost:8080/"
        },
        "id": "98WWmxOJV-yz",
        "outputId": "dba8b1be-be58-471f-e70f-a4b0f0c4132e"
      },
      "execution_count": null,
      "outputs": [
        {
          "output_type": "stream",
          "name": "stdout",
          "text": [
            "Всего строк до очистки: 9508\n"
          ]
        }
      ]
    },
    {
      "cell_type": "code",
      "source": [
        "df = pd.read_csv(DATA_FILE)\n",
        "print(\"Всего строк до очистки:\", len(df))\n"
      ],
      "metadata": {
        "colab": {
          "base_uri": "https://localhost:8080/"
        },
        "id": "Jwzn9a-ThLrA",
        "outputId": "e3bb4983-2636-4b8e-b922-2f0e65e71285"
      },
      "execution_count": null,
      "outputs": [
        {
          "output_type": "stream",
          "name": "stdout",
          "text": [
            "Всего строк до очистки: 9508\n"
          ]
        }
      ]
    },
    {
      "cell_type": "code",
      "source": [
        "df = pd.read_csv(DATA_FILE)\n",
        "print(\"🐣 Всего строк:\", len(df))\n"
      ],
      "metadata": {
        "colab": {
          "base_uri": "https://localhost:8080/"
        },
        "id": "Q6ZRA1DPjBj2",
        "outputId": "a015f35e-45cb-4c88-bfd6-7a429e6c9b2d"
      },
      "execution_count": null,
      "outputs": [
        {
          "output_type": "stream",
          "name": "stdout",
          "text": [
            "🐣 Всего строк: 9508\n"
          ]
        }
      ]
    },
    {
      "cell_type": "code",
      "source": [
        "# Какие именно колонки дают NaN\n",
        "nan_counts = df.isna().sum()\n",
        "print(nan_counts[nan_counts > 0])\n"
      ],
      "metadata": {
        "colab": {
          "base_uri": "https://localhost:8080/"
        },
        "id": "yUUdZWMhjL4q",
        "outputId": "066658bd-5748-49ac-dc24-bb56008bcce3"
      },
      "execution_count": null,
      "outputs": [
        {
          "output_type": "stream",
          "name": "stdout",
          "text": [
            "5m_rsi               7592\n",
            "5m_ema12             7592\n",
            "5m_ema26             7592\n",
            "5m_macd              7592\n",
            "5m_macd_signal       7592\n",
            "5m_bb_high           7592\n",
            "5m_bb_low            7592\n",
            "5m_bb_width          7592\n",
            "5m_atr               7592\n",
            "5m_obv               7592\n",
            "5m_volume_rolling    7592\n",
            "1m_rsi               1916\n",
            "1m_ema12             1916\n",
            "1m_ema26             1916\n",
            "1m_macd              1916\n",
            "1m_macd_signal       1916\n",
            "1m_bb_high           1916\n",
            "1m_bb_low            1916\n",
            "1m_bb_width          1916\n",
            "1m_atr               1916\n",
            "1m_obv               1916\n",
            "1m_volume_rolling    1916\n",
            "dtype: int64\n"
          ]
        }
      ]
    },
    {
      "cell_type": "code",
      "source": [
        "import pandas as pd\n",
        "\n",
        "# === Загрузка датасета ===\n",
        "df = pd.read_csv('/content/drive/MyDrive/bot_data/BTC_EUR_fast_features_cleaned.csv')\n",
        "\n",
        "print(f\"🚦 Строк до очистки: {len(df)}\")\n",
        "\n",
        "# 1️⃣ Список колонок, в которых логично использовать ffill (цены и объем)\n",
        "ffill_cols = [\"Close\", \"High\", \"Low\", \"Open\", \"Volume\"]\n",
        "\n",
        "# Применим ffill только к этим колонкам\n",
        "df[ffill_cols] = df[ffill_cols].fillna(method='ffill')\n",
        "\n",
        "# 2️⃣ Все остальные числовые индикаторы заполним медианой\n",
        "# Выберем все числовые колонки (кроме цен и non-numeric)\n",
        "numeric_cols = df.select_dtypes(include='number').columns\n",
        "median_cols = [col for col in numeric_cols if col not in ffill_cols and col != \"target\"]\n",
        "\n",
        "# Применим median заполнение\n",
        "df[median_cols] = df[median_cols].fillna(df[median_cols].median())\n",
        "\n",
        "# Проверим результат\n",
        "print(f\"✅ Осталось NaN: {df.isna().sum().sum()}\")  # должно быть 0\n",
        "\n",
        "# Сохраним\n",
        "df.to_csv('/content/drive/MyDrive/bot_data/BTC_EUR_fast_features_cleaned_filled.csv', index=False)\n",
        "print(\"📦 Готово! Файл сохранён.\")\n"
      ],
      "metadata": {
        "colab": {
          "base_uri": "https://localhost:8080/"
        },
        "id": "H9HiVRakl9zl",
        "outputId": "66693bf6-8e1b-4e86-f7b1-28f2e7bdd511"
      },
      "execution_count": null,
      "outputs": [
        {
          "output_type": "stream",
          "name": "stdout",
          "text": [
            "🚦 Строк до очистки: 9509\n",
            "✅ Осталось NaN: 0\n"
          ]
        },
        {
          "output_type": "stream",
          "name": "stderr",
          "text": [
            "<ipython-input-36-5f7460d071c4>:12: FutureWarning: DataFrame.fillna with 'method' is deprecated and will raise in a future version. Use obj.ffill() or obj.bfill() instead.\n",
            "  df[ffill_cols] = df[ffill_cols].fillna(method='ffill')\n"
          ]
        },
        {
          "output_type": "stream",
          "name": "stdout",
          "text": [
            "📦 Готово! Файл сохранён.\n"
          ]
        }
      ]
    },
    {
      "cell_type": "code",
      "source": [
        "import pandas as pd\n",
        "\n",
        "# Загрузка файла с признаками\n",
        "df = pd.read_csv('/content/drive/MyDrive/bot_data/BTC_EUR_fast_features_cleaned_filled.csv')\n",
        "\n",
        "# Добавляем целевую переменную: следующая свеча выше текущей\n",
        "df[\"target\"] = (df[\"Close\"].shift(-1) > df[\"Close\"]).astype(int)\n",
        "\n",
        "# Удалим последнюю строку (у неё target будет NaN)\n",
        "df.dropna(inplace=True)\n",
        "\n",
        "# Сохраняем заново\n",
        "df.to_csv('/content/drive/MyDrive/bot_data/BTC_EUR_fast_features_ready.csv', index=False)\n",
        "\n",
        "print(\"✅ Целевая переменная добавлена и сохранена!\")\n",
        "print(\"📊 Строк для обучения:\", len(df))\n"
      ],
      "metadata": {
        "colab": {
          "base_uri": "https://localhost:8080/"
        },
        "id": "XKhjHyJzs_nG",
        "outputId": "1ea1ea9a-74ae-464e-f4c4-ca19f9e9942f"
      },
      "execution_count": null,
      "outputs": [
        {
          "output_type": "stream",
          "name": "stdout",
          "text": [
            "✅ Целевая переменная добавлена и сохранена!\n",
            "📊 Строк для обучения: 9509\n"
          ]
        }
      ]
    },
    {
      "cell_type": "code",
      "source": [
        "import pandas as pd\n",
        "from sklearn.ensemble import RandomForestClassifier\n",
        "from sklearn.model_selection import train_test_split\n",
        "from sklearn.metrics import classification_report, confusion_matrix\n",
        "import joblib\n",
        "\n",
        "# === Загрузка ===\n",
        "df = pd.read_csv('/content/drive/MyDrive/bot_data/BTC_EUR_fast_features_ready.csv')\n",
        "print(\"📥 Загружено строк:\", len(df))\n",
        "\n",
        "# === Целевая переменная ===\n",
        "# target уже есть, если нет — добавить по нужной логике\n",
        "# df['target'] = (df['Close'].shift(-1) > df['Close']).astype(int)\n",
        "\n",
        "# === Подготовка признаков ===\n",
        "X = df.drop(columns=[\"Datetime\", \"tf\", \"target\"])\n",
        "y = df[\"target\"]\n",
        "\n",
        "# === Разделение ===\n",
        "X_train, X_test, y_train, y_test = train_test_split(\n",
        "    X, y, test_size=0.2, shuffle=False\n",
        ")\n",
        "\n",
        "# === Обучение ===\n",
        "model = RandomForestClassifier(n_estimators=100, random_state=42)\n",
        "model.fit(X_train, y_train)\n",
        "\n",
        "# === Оценка ===\n",
        "y_pred = model.predict(X_test)\n",
        "print(\"🎯 Fast Classification Report:\")\n",
        "print(classification_report(y_test, y_pred))\n",
        "\n",
        "print(\"📉 Fast Confusion Matrix:\")\n",
        "print(confusion_matrix(y_test, y_pred))\n",
        "\n",
        "# === Сохранение ===\n",
        "joblib.dump(model, '/content/drive/MyDrive/bot_data/rf_model_fast.pkl')\n",
        "print(\"✅ Модель сохранена: rf_model_fast.pkl\")\n"
      ],
      "metadata": {
        "colab": {
          "base_uri": "https://localhost:8080/"
        },
        "id": "uiim4TbYnvl8",
        "outputId": "d843a3a6-65be-425d-9a9b-9a9e08fe29cb"
      },
      "execution_count": null,
      "outputs": [
        {
          "output_type": "stream",
          "name": "stdout",
          "text": [
            "📥 Загружено строк: 9509\n",
            "🎯 Fast Classification Report:\n",
            "              precision    recall  f1-score   support\n",
            "\n",
            "           0       0.59      0.50      0.54      1089\n",
            "           1       0.44      0.53      0.48       813\n",
            "\n",
            "    accuracy                           0.51      1902\n",
            "   macro avg       0.51      0.51      0.51      1902\n",
            "weighted avg       0.52      0.51      0.51      1902\n",
            "\n",
            "📉 Fast Confusion Matrix:\n",
            "[[546 543]\n",
            " [386 427]]\n",
            "✅ Модель сохранена: rf_model_fast.pkl\n"
          ]
        }
      ]
    },
    {
      "cell_type": "code",
      "source": [
        "import pandas as pd\n",
        "from sklearn.ensemble import RandomForestClassifier\n",
        "from sklearn.model_selection import train_test_split\n",
        "from sklearn.metrics import classification_report, confusion_matrix\n",
        "import joblib\n",
        "import matplotlib.pyplot as plt\n",
        "\n",
        "# === Загрузка данных ===\n",
        "df = pd.read_csv('/content/drive/MyDrive/bot_data/BTC_EUR_fast_features_ready.csv')\n",
        "\n",
        "# === Убираем лишние поля ===\n",
        "X = df.drop(columns=[\"Datetime\", \"tf\", \"target\"])\n",
        "y = df[\"target\"]\n",
        "\n",
        "# === Делим на train/test без перемешивания ===\n",
        "X_train, X_test, y_train, y_test = train_test_split(\n",
        "    X, y, test_size=0.2, shuffle=False\n",
        ")\n",
        "\n",
        "# === Обучаем с балансом классов ===\n",
        "model = RandomForestClassifier(n_estimators=100, random_state=42, class_weight='balanced')\n",
        "model.fit(X_train, y_train)\n",
        "\n",
        "# === Смотрим важность признаков ===\n",
        "importances = pd.Series(model.feature_importances_, index=X.columns)\n",
        "importances.sort_values(ascending=False, inplace=True)\n",
        "\n",
        "# Вывод топовых признаков\n",
        "top_feats = importances[importances > 0.01]  # оставим только важные\n",
        "\n",
        "print(\"🔥 Важные признаки:\")\n",
        "print(top_feats)\n",
        "\n",
        "# Визуализация\n",
        "plt.figure(figsize=(12, 6))\n",
        "top_feats.plot(kind='bar', color='orange')\n",
        "plt.title(\"🔥 Feature Importance (1m/5m)\")\n",
        "plt.tight_layout()\n",
        "plt.show()\n",
        "\n",
        "# === Перетренируем модель на отфильтрованных признаках ===\n",
        "X_top = X[top_feats.index]\n",
        "X_train, X_test, y_train, y_test = train_test_split(X_top, y, test_size=0.2, shuffle=False)\n",
        "\n",
        "model_top = RandomForestClassifier(n_estimators=100, random_state=42, class_weight='balanced')\n",
        "model_top.fit(X_train, y_train)\n",
        "\n",
        "# === Метрики ===\n",
        "y_pred = model_top.predict(X_test)\n",
        "print(\"🎯 Новый Fast Report:\")\n",
        "print(classification_report(y_test, y_pred))\n",
        "print(\"📉 Confusion Matrix:\")\n",
        "print(confusion_matrix(y_test, y_pred))\n",
        "\n",
        "# === Сохраняем модель ===\n",
        "joblib.dump(model_top, '/content/drive/MyDrive/bot_data/rf_model_fast_filtered.pkl')\n",
        "print(\"✅ Модель сохранена: rf_model_fast_filtered.pkl\")\n"
      ],
      "metadata": {
        "colab": {
          "base_uri": "https://localhost:8080/",
          "height": 1000
        },
        "id": "FixPpVisuFMi",
        "outputId": "71a2d3a0-94d5-495e-eaff-40aad3f41ace"
      },
      "execution_count": null,
      "outputs": [
        {
          "output_type": "stream",
          "name": "stdout",
          "text": [
            "🔥 Важные признаки:\n",
            "1m_rsi               0.057506\n",
            "1m_atr               0.056667\n",
            "Close                0.054843\n",
            "Open                 0.054648\n",
            "1m_macd_signal       0.054641\n",
            "1m_bb_width          0.054441\n",
            "1m_macd              0.053814\n",
            "Low                  0.053762\n",
            "High                 0.053253\n",
            "1m_volume_rolling    0.051072\n",
            "1m_obv               0.046689\n",
            "1m_bb_high           0.046145\n",
            "Volume               0.045850\n",
            "1m_bb_low            0.045732\n",
            "1m_ema12             0.043969\n",
            "1m_ema26             0.042768\n",
            "5m_rsi               0.019155\n",
            "5m_atr               0.018952\n",
            "5m_bb_width          0.018537\n",
            "5m_macd_signal       0.017181\n",
            "5m_bb_high           0.016762\n",
            "5m_macd              0.016685\n",
            "5m_volume_rolling    0.016084\n",
            "5m_ema26             0.015474\n",
            "5m_obv               0.015422\n",
            "5m_bb_low            0.014977\n",
            "5m_ema12             0.014973\n",
            "dtype: float64\n"
          ]
        },
        {
          "output_type": "stream",
          "name": "stderr",
          "text": [
            "<ipython-input-39-041c61fae7c7>:38: UserWarning: Glyph 128293 (\\N{FIRE}) missing from font(s) DejaVu Sans.\n",
            "  plt.tight_layout()\n",
            "/usr/local/lib/python3.11/dist-packages/IPython/core/pylabtools.py:151: UserWarning: Glyph 128293 (\\N{FIRE}) missing from font(s) DejaVu Sans.\n",
            "  fig.canvas.print_figure(bytes_io, **kw)\n"
          ]
        },
        {
          "output_type": "display_data",
          "data": {
            "text/plain": [
              "<Figure size 1200x600 with 1 Axes>"
            ],
            "image/png": "[encoded data removed]"
          },
          "metadata": {}
        },
        {
          "output_type": "stream",
          "name": "stdout",
          "text": [
            "🎯 Новый Fast Report:\n",
            "              precision    recall  f1-score   support\n",
            "\n",
            "           0       0.58      0.52      0.55      1089\n",
            "           1       0.44      0.50      0.47       813\n",
            "\n",
            "    accuracy                           0.51      1902\n",
            "   macro avg       0.51      0.51      0.51      1902\n",
            "weighted avg       0.52      0.51      0.51      1902\n",
            "\n",
            "📉 Confusion Matrix:\n",
            "[[565 524]\n",
            " [405 408]]\n",
            "✅ Модель сохранена: rf_model_fast_filtered.pkl\n"
          ]
        }
      ]
    },
    {
      "cell_type": "code",
      "source": [
        "import pandas as pd\n",
        "\n",
        "# Загружаем уже сгенерированные фичи\n",
        "df = pd.read_csv(\"/content/drive/MyDrive/bot_data/BTC_EUR_fast_features_ready.csv\")\n",
        "\n",
        "# === Новые признаки ===\n",
        "\n",
        "# Δ между Close и Open (внутрисвечное настроение)\n",
        "df[\"delta_close_open\"] = df[\"Close\"] - df[\"Open\"]\n",
        "\n",
        "# RSI - 50 (сильное отклонение от баланса)\n",
        "df[\"rsi_diff_50\"] = df[\"1m_rsi\"] - 50\n",
        "\n",
        "# Rolling стандартное отклонение цены (волатильность)\n",
        "df[\"rolling_std_close\"] = df[\"Close\"].rolling(window=5).std()\n",
        "\n",
        "# Средний объём за 5 свечей\n",
        "df[\"rolling_mean_volume\"] = df[\"Volume\"].rolling(window=5).mean()\n",
        "\n",
        "# Моментум — насколько изменилась цена за N (тут: 5) свечей\n",
        "df[\"momentum_5\"] = df[\"Close\"].diff(periods=5)\n",
        "\n",
        "# Очистим пустоты после rolling/shift\n",
        "df.dropna(inplace=True)\n",
        "\n",
        "# Сохраняем\n",
        "df.to_csv(\"/content/drive/MyDrive/bot_data/BTC_EUR_fast_features_boosted.csv\", index=False)\n",
        "print(\"🚀 Дополнительные признаки добавлены и сохранены!\")\n"
      ],
      "metadata": {
        "colab": {
          "base_uri": "https://localhost:8080/"
        },
        "id": "hKgdNoewv7N5",
        "outputId": "bbcb8a0a-6c91-4034-dcb8-1fcb20fef7fc"
      },
      "execution_count": null,
      "outputs": [
        {
          "output_type": "stream",
          "name": "stdout",
          "text": [
            "🚀 Дополнительные признаки добавлены и сохранены!\n"
          ]
        }
      ]
    },
    {
      "cell_type": "code",
      "source": [
        "import pandas as pd\n",
        "\n",
        "# === Загружаем наши данные с дополнительными признаками ===\n",
        "df = pd.read_csv(\"/content/drive/MyDrive/bot_data/BTC_EUR_fast_features_boosted.csv\")\n",
        "\n",
        "# === Создаём целевую переменную ===\n",
        "df[\"target\"] = (df[\"Close\"].shift(-3) > df[\"Close\"]).astype(int)\n",
        "\n",
        "# Удалим последние 3 строки, где цель будет NaN\n",
        "df.dropna(inplace=True)\n",
        "\n",
        "# === Сохраняем для обучения ===\n",
        "df.to_csv(\"/content/drive/MyDrive/bot_data/BTC_EUR_fast_features_boosted_target.csv\", index=False)\n",
        "\n",
        "print(\"✅ Цель t+3 добавлена. Данных для обучения:\", len(df))\n"
      ],
      "metadata": {
        "colab": {
          "base_uri": "https://localhost:8080/"
        },
        "id": "whanD7McxcLZ",
        "outputId": "56780377-d4b8-4e0d-d07f-f159902c4641"
      },
      "execution_count": null,
      "outputs": [
        {
          "output_type": "stream",
          "name": "stdout",
          "text": [
            "✅ Цель t+3 добавлена. Данных для обучения: 9504\n"
          ]
        }
      ]
    },
    {
      "cell_type": "code",
      "source": [
        "import pandas as pd\n",
        "from sklearn.model_selection import train_test_split\n",
        "from sklearn.ensemble import RandomForestClassifier\n",
        "from sklearn.metrics import classification_report, confusion_matrix\n",
        "from sklearn.utils.class_weight import compute_class_weight\n",
        "import matplotlib.pyplot as plt\n",
        "\n",
        "# === Настройки ===\n",
        "DATA_FILE = \"/content/drive/MyDrive/bot_data/BTC_EUR_fast_features_boosted_target.csv\"\n",
        "MODEL_NAME = \"rf_model_fast_t3.pkl\"\n",
        "\n",
        "# === Загрузка данных ===\n",
        "df = pd.read_csv(DATA_FILE)\n",
        "print(\"📥 Загружено строк:\", len(df))\n",
        "\n",
        "# === Целевое значение ===\n",
        "y = df[\"target\"]\n",
        "\n",
        "# === Признаки (без tf, datetime и прочих бесполезных визуальных штук) ===\n",
        "X = df.drop(columns=[\"Datetime\", \"tf\", \"target\"])\n",
        "\n",
        "# === Разделение на train/test ===\n",
        "X_train, X_test, y_train, y_test = train_test_split(\n",
        "    X, y, test_size=0.2, shuffle=False\n",
        ")\n",
        "\n",
        "# === Баланс классов ===\n",
        "import numpy as np\n",
        "classes = np.unique(y_train)\n",
        "weights = compute_class_weight(class_weight=\"balanced\", classes=classes, y=y_train)\n",
        "\n",
        "class_weights = dict(zip(classes, weights))\n",
        "print(\"⚖️ Баланс классов:\", class_weights)\n",
        "\n",
        "# === Обучение ===\n",
        "model = RandomForestClassifier(n_estimators=150, random_state=42, class_weight=class_weights)\n",
        "model.fit(X_train, y_train)\n",
        "\n",
        "# === Предсказания ===\n",
        "y_pred = model.predict(X_test)\n",
        "\n",
        "# === Отчёт ===\n",
        "print(\"🎯 Classification Report (t+3):\")\n",
        "print(classification_report(y_test, y_pred))\n",
        "print(\"📉 Confusion Matrix:\")\n",
        "print(confusion_matrix(y_test, y_pred))\n",
        "\n",
        "# === Сохранение модели ===\n",
        "import joblib\n",
        "joblib.dump(model, f\"/content/drive/MyDrive/bot_data/{MODEL_NAME}\")\n",
        "print(f\"✅ Модель сохранена: {MODEL_NAME}\")\n",
        "\n",
        "# === Важность признаков ===\n",
        "importances = pd.Series(model.feature_importances_, index=X.columns).sort_values(ascending=False)\n",
        "print(\"🔥 ТОП признаки:\")\n",
        "print(importances.head(15))\n",
        "\n",
        "# === Визуализация ===\n",
        "plt.figure(figsize=(10, 6))\n",
        "importances.head(15).plot(kind=\"barh\")\n",
        "plt.title(\"🔥 Feature Importance (TOP 15)\")\n",
        "plt.tight_layout()\n",
        "plt.gca().invert_yaxis()\n",
        "plt.show()\n"
      ],
      "metadata": {
        "colab": {
          "base_uri": "https://localhost:8080/",
          "height": 1000
        },
        "id": "Qg13LDA4zP2L",
        "outputId": "76edf8d1-2a84-484f-cf74-f4356160b43d"
      },
      "execution_count": null,
      "outputs": [
        {
          "output_type": "stream",
          "name": "stdout",
          "text": [
            "📥 Загружено строк: 9504\n",
            "⚖️ Баланс классов: {np.int64(0): np.float64(0.9722506393861893), np.int64(1): np.float64(1.029379907933929)}\n",
            "🎯 Classification Report (t+3):\n",
            "              precision    recall  f1-score   support\n",
            "\n",
            "           0       0.54      0.71      0.61       989\n",
            "           1       0.52      0.34      0.41       912\n",
            "\n",
            "    accuracy                           0.53      1901\n",
            "   macro avg       0.53      0.53      0.51      1901\n",
            "weighted avg       0.53      0.53      0.52      1901\n",
            "\n",
            "📉 Confusion Matrix:\n",
            "[[704 285]\n",
            " [600 312]]\n",
            "✅ Модель сохранена: rf_model_fast_t3.pkl\n",
            "🔥 ТОП признаки:\n",
            "momentum_5             0.052683\n",
            "rolling_mean_volume    0.051643\n",
            "rolling_std_close      0.051312\n",
            "1m_macd_signal         0.045162\n",
            "1m_obv                 0.044884\n",
            "1m_bb_width            0.043348\n",
            "1m_atr                 0.043144\n",
            "1m_macd                0.042496\n",
            "1m_volume_rolling      0.041820\n",
            "Close                  0.041497\n",
            "High                   0.040267\n",
            "Low                    0.040077\n",
            "Open                   0.039647\n",
            "1m_bb_high             0.038907\n",
            "1m_rsi                 0.038596\n",
            "dtype: float64\n"
          ]
        },
        {
          "output_type": "stream",
          "name": "stderr",
          "text": [
            "<ipython-input-42-3f5e6cc30ed5>:62: UserWarning: Glyph 128293 (\\N{FIRE}) missing from font(s) DejaVu Sans.\n",
            "  plt.tight_layout()\n",
            "/usr/local/lib/python3.11/dist-packages/IPython/core/pylabtools.py:151: UserWarning: Glyph 128293 (\\N{FIRE}) missing from font(s) DejaVu Sans.\n",
            "  fig.canvas.print_figure(bytes_io, **kw)\n"
          ]
        },
        {
          "output_type": "display_data",
          "data": {
            "text/plain": [
              "<Figure size 1000x600 with 1 Axes>"
            ],
            "image/png": "[encoded data removed]"
          },
          "metadata": {}
        }
      ]
    },
    {
      "cell_type": "code",
      "source": [
        "import pandas as pd\n",
        "import numpy as np\n",
        "import ta\n",
        "import os\n",
        "\n",
        "# === Настройки ===\n",
        "INPUT_1M = \"/content/drive/MyDrive/bot_data/BTC_EUR_fast_cleaned_1m.csv\"\n",
        "INPUT_5M = \"/content/drive/MyDrive/bot_data/BTC_EUR_fast_cleaned_5m.csv\"\n",
        "OUTPUT = \"/content/drive/MyDrive/bot_data/BTC_EUR_fast_features_extended.csv\"\n",
        "\n",
        "def add_indicators(df, tf):\n",
        "    df = df.copy()\n",
        "    df[\"Datetime\"] = pd.to_datetime(df[\"Datetime\"])\n",
        "    df = df.sort_values(\"Datetime\")\n",
        "\n",
        "    # RSI\n",
        "    df[f\"{tf}_rsi\"] = ta.momentum.RSIIndicator(close=df[\"Close\"]).rsi()\n",
        "\n",
        "    # EMA\n",
        "    df[f\"{tf}_ema12\"] = ta.trend.EMAIndicator(close=df[\"Close\"], window=12).ema_indicator()\n",
        "    df[f\"{tf}_ema26\"] = ta.trend.EMAIndicator(close=df[\"Close\"], window=26).ema_indicator()\n",
        "\n",
        "    # MACD\n",
        "    macd = ta.trend.MACD(close=df[\"Close\"])\n",
        "    df[f\"{tf}_macd\"] = macd.macd()\n",
        "    df[f\"{tf}_macd_signal\"] = macd.macd_signal()\n",
        "\n",
        "    # Bollinger\n",
        "    bb = ta.volatility.BollingerBands(close=df[\"Close\"])\n",
        "    df[f\"{tf}_bb_high\"] = bb.bollinger_hband()\n",
        "    df[f\"{tf}_bb_low\"] = bb.bollinger_lband()\n",
        "    df[f\"{tf}_bb_width\"] = bb.bollinger_wband()\n",
        "\n",
        "    # ATR\n",
        "    df[f\"{tf}_atr\"] = ta.volatility.AverageTrueRange(high=df[\"High\"], low=df[\"Low\"], close=df[\"Close\"]).average_true_range()\n",
        "\n",
        "    # OBV\n",
        "    df[f\"{tf}_obv\"] = ta.volume.OnBalanceVolumeIndicator(close=df[\"Close\"], volume=df[\"Volume\"]).on_balance_volume()\n",
        "\n",
        "    # Volume rolling mean\n",
        "    df[f\"{tf}_volume_rolling\"] = df[\"Volume\"].rolling(window=5).mean()\n",
        "\n",
        "    return df[[\"Datetime\"] + [col for col in df.columns if col.startswith(tf)]]\n",
        "\n",
        "def process():\n",
        "    print(\"📥 Загружаем данные...\")\n",
        "    df_1m = pd.read_csv(INPUT_1M)\n",
        "    df_5m = pd.read_csv(INPUT_5M)\n",
        "\n",
        "    # Нормализация названий\n",
        "    for df in (df_1m, df_5m):\n",
        "        df.columns = [col.strip() for col in df.columns]\n",
        "        df[\"Datetime\"] = pd.to_datetime(df[\"Datetime\"])\n",
        "\n",
        "    # Добавление индикаторов\n",
        "    print(\"📊 Вычисляем индикаторы...\")\n",
        "    df_1m_ind = add_indicators(df_1m, \"1m\")\n",
        "    df_5m_ind = add_indicators(df_5m, \"5m\")\n",
        "\n",
        "    # Объединение по времени\n",
        "    df = pd.merge(df_1m, df_5m, on=\"Datetime\", suffixes=(\"\", \"_drop\"))\n",
        "    df = df[[col for col in df.columns if not col.endswith(\"_drop\")]]\n",
        "\n",
        "    df = pd.merge(df, df_1m_ind, on=\"Datetime\", how=\"left\")\n",
        "    df = pd.merge(df, df_5m_ind, on=\"Datetime\", how=\"left\")\n",
        "\n",
        "    # === Добавим расширенные фичи ===\n",
        "    print(\"✨ Добавляем расширенные фичи...\")\n",
        "    df[\"rsi_diff_50\"] = abs(df[\"1m_rsi\"] - 50)\n",
        "    df[\"ema_gap\"] = df[\"1m_ema12\"] - df[\"1m_ema26\"]\n",
        "    df[\"macd_gap\"] = df[\"1m_macd\"] - df[\"1m_macd_signal\"]\n",
        "    df[\"momentum_5\"] = df[\"Close\"].pct_change(periods=5)\n",
        "\n",
        "    # Кол-во последовательных свечей в одном направлении\n",
        "    df[\"direction\"] = np.sign(df[\"Close\"].diff())\n",
        "    df[\"trend_persistence\"] = df[\"direction\"].groupby((df[\"direction\"] != df[\"direction\"].shift()).cumsum()).cumcount() + 1\n",
        "    df.drop(columns=[\"direction\"], inplace=True)\n",
        "\n",
        "    # === Обработка пропусков ===\n",
        "    print(\"🧹 Чистим и заполняем...\")\n",
        "    ffill_cols = [\"Open\", \"High\", \"Low\", \"Close\", \"Volume\"]\n",
        "    median_cols = [col for col in df.columns if col not in [\"Datetime\", \"tf\"] + ffill_cols]\n",
        "\n",
        "    df[ffill_cols] = df[ffill_cols].ffill()\n",
        "    df[median_cols] = df[median_cols].fillna(df[median_cols].median())\n",
        "\n",
        "    # Сохраняем\n",
        "    print(\"✅ Сохраняем финальный файл:\", OUTPUT)\n",
        "    df.to_csv(OUTPUT, index=False)\n",
        "    print(\"🧮 Всего строк:\", len(df))\n",
        "    print(df.head())\n",
        "\n",
        "# === Запуск ===\n",
        "if __name__ == \"__main__\":\n",
        "    process()\n"
      ],
      "metadata": {
        "colab": {
          "base_uri": "https://localhost:8080/"
        },
        "id": "ITHvGS-A7dvA",
        "outputId": "8b078c04-5f9e-45a8-ee8a-6421ee189036"
      },
      "execution_count": null,
      "outputs": [
        {
          "output_type": "stream",
          "name": "stdout",
          "text": [
            "📥 Загружаем данные...\n",
            "📊 Вычисляем индикаторы...\n",
            "✨ Добавляем расширенные фичи...\n",
            "🧹 Чистим и заполняем...\n",
            "✅ Сохраняем финальный файл: /content/drive/MyDrive/bot_data/BTC_EUR_fast_features_extended.csv\n",
            "🧮 Всего строк: 1216\n",
            "                   Datetime         Close          High           Low  \\\n",
            "0                       NaT           NaN           NaN           NaN   \n",
            "1 2025-03-31 00:15:00+00:00  75887.742188  75953.976562  75887.742188   \n",
            "2 2025-03-31 00:30:00+00:00  75721.750000  75721.750000  75721.750000   \n",
            "3 2025-03-31 01:10:00+00:00  75583.054688  75583.054688  75583.054688   \n",
            "4 2025-03-31 01:15:00+00:00  75577.164062  75577.164062  75577.164062   \n",
            "\n",
            "           Open       Volume  tf     1m_rsi      1m_ema12      1m_ema26  ...  \\\n",
            "0           NaN          NaN  1m  26.714892  73215.110986  73463.044903  ...   \n",
            "1  75953.976562          0.0  1m  49.249590  76195.013321  76196.357910  ...   \n",
            "2  75721.750000          0.0  1m  21.818180  75832.607661  76196.357910  ...   \n",
            "3  75583.054688          0.0  1m  56.073135  75449.459879  75472.905138  ...   \n",
            "4  75577.164062  143323136.0  1m  55.313474  75484.872727  75486.253681  ...   \n",
            "\n",
            "      5m_bb_low  5m_bb_width      5m_atr        5m_obv  5m_volume_rolling  \\\n",
            "0  75987.007175     0.663434   88.088777 -5.180300e+09         37284147.2   \n",
            "1  75987.007175     0.663434    0.000000 -1.224888e+08         37284147.2   \n",
            "2  75987.007175     0.663434    0.000000 -2.015857e+08         43586150.4   \n",
            "3  75987.007175     0.663434  151.921197  1.987727e+08        109536870.4   \n",
            "4  75987.007175     0.663434  150.882183  1.626235e+08         65841971.2   \n",
            "\n",
            "   rsi_diff_50     ema_gap   macd_gap  momentum_5  trend_persistence  \n",
            "0    23.285108 -247.933918  -2.614046    -0.00017                  1  \n",
            "1    10.266714   -2.211875  -0.555654    -0.00017                  1  \n",
            "2    28.181820   -2.211875  -0.555654    -0.00017                  1  \n",
            "3     6.073135  -23.445259  65.833032    -0.00017                  2  \n",
            "4     5.313474   -1.380954  48.350365    -0.00017                  3  \n",
            "\n",
            "[5 rows x 34 columns]\n"
          ]
        }
      ]
    },
    {
      "cell_type": "code",
      "source": [
        "# target_engine_fast.py\n",
        "\n",
        "import pandas as pd\n",
        "\n",
        "INPUT_PATH = \"/content/drive/MyDrive/bot_data/BTC_EUR_fast_features_extended.csv\"\n",
        "OUTPUT_PATH = \"/content/drive/MyDrive/bot_data/BTC_EUR_fast_labeled.csv\"\n",
        "\n",
        "def add_target_t_plus_1(df: pd.DataFrame):\n",
        "    df = df.copy()\n",
        "    df['target'] = (df['Close'].shift(-1) > df['Close']).astype(int)\n",
        "    df.dropna(inplace=True)\n",
        "    return df\n",
        "\n",
        "if __name__ == \"__main__\":\n",
        "    print(\"📥 Загружаем данные...\")\n",
        "    df = pd.read_csv(INPUT_PATH)\n",
        "    df['Datetime'] = pd.to_datetime(df['Datetime'])\n",
        "    print(\"✅ Строк до:\", len(df))\n",
        "\n",
        "    df_labeled = add_target_t_plus_1(df)\n",
        "\n",
        "    print(\"✅ Строк после:\", len(df_labeled))\n",
        "    df_labeled.to_csv(OUTPUT_PATH, index=False)\n",
        "    print(f\"💾 Сохранено: {OUTPUT_PATH}\")\n"
      ],
      "metadata": {
        "colab": {
          "base_uri": "https://localhost:8080/"
        },
        "id": "cI50nTrT_Jto",
        "outputId": "1372e3ed-ebf3-4bd9-8d97-af365e61a0ca"
      },
      "execution_count": null,
      "outputs": [
        {
          "output_type": "stream",
          "name": "stdout",
          "text": [
            "📥 Загружаем данные...\n",
            "✅ Строк до: 1216\n",
            "✅ Строк после: 1215\n",
            "💾 Сохранено: /content/drive/MyDrive/bot_data/BTC_EUR_fast_labeled.csv\n"
          ]
        }
      ]
    },
    {
      "cell_type": "code",
      "source": [
        "import pandas as pd\n",
        "import numpy as np\n",
        "from sklearn.ensemble import RandomForestClassifier\n",
        "from sklearn.model_selection import train_test_split\n",
        "from sklearn.metrics import classification_report, confusion_matrix\n",
        "from sklearn.utils.class_weight import compute_class_weight\n",
        "import matplotlib.pyplot as plt\n",
        "import seaborn as sns\n",
        "import joblib\n",
        "\n",
        "DATA_PATH = \"/content/drive/MyDrive/bot_data/BTC_EUR_fast_labeled.csv\"\n",
        "MODEL_PATH = \"/content/drive/MyDrive/bot_data/rf_model_fast_extended.pkl\"\n",
        "\n",
        "# === Загружаем данные ===\n",
        "df = pd.read_csv(DATA_PATH)\n",
        "df['Datetime'] = pd.to_datetime(df['Datetime'])\n",
        "\n",
        "# === Подготовка признаков ===\n",
        "X = df.drop(columns=[\"Datetime\", \"tf\", \"target\"])\n",
        "y = df[\"target\"]\n",
        "\n",
        "X_train, X_test, y_train, y_test = train_test_split(\n",
        "    X, y, test_size=0.2, shuffle=False\n",
        ")\n",
        "\n",
        "# === Баланс классов ===\n",
        "weights = compute_class_weight(class_weight=\"balanced\", classes=np.unique(y_train), y=y_train)\n",
        "class_weights = dict(zip(np.unique(y_train), weights))\n",
        "print(\"⚖️ Баланс классов:\", class_weights)\n",
        "\n",
        "# === Модель ===\n",
        "model = RandomForestClassifier(n_estimators=100, class_weight=class_weights, random_state=42)\n",
        "model.fit(X_train, y_train)\n",
        "\n",
        "# === Предсказания ===\n",
        "y_pred = model.predict(X_test)\n",
        "\n",
        "# === Отчёт ===\n",
        "print(\"🎯 Extended Report:\")\n",
        "print(classification_report(y_test, y_pred))\n",
        "\n",
        "print(\"📉 Confusion Matrix:\")\n",
        "cm = confusion_matrix(y_test, y_pred)\n",
        "sns.heatmap(cm, annot=True, fmt=\"d\", cmap=\"coolwarm\")\n",
        "plt.xlabel(\"Predicted\")\n",
        "plt.ylabel(\"Actual\")\n",
        "plt.title(\"📊 Confusion Matrix\")\n",
        "plt.tight_layout()\n",
        "plt.show()\n",
        "\n",
        "# === Сохраняем модель ===\n",
        "joblib.dump(model, MODEL_PATH)\n",
        "print(f\"✅ Модель сохранена: {MODEL_PATH}\")\n",
        "\n",
        "# === Фичи ===\n",
        "importances = pd.Series(model.feature_importances_, index=X.columns).sort_values(ascending=False)\n",
        "print(\"🔥 ТОП признаки:\")\n",
        "print(importances.head(20))\n"
      ],
      "metadata": {
        "colab": {
          "base_uri": "https://localhost:8080/",
          "height": 1000
        },
        "id": "MtUvdZpj_inP",
        "outputId": "0eae2ffb-b5ec-4e4a-e86a-38567b8bb4aa"
      },
      "execution_count": null,
      "outputs": [
        {
          "output_type": "stream",
          "name": "stdout",
          "text": [
            "⚖️ Баланс классов: {np.int64(0): np.float64(0.9604743083003953), np.int64(1): np.float64(1.0429184549356223)}\n",
            "🎯 Extended Report:\n",
            "              precision    recall  f1-score   support\n",
            "\n",
            "           0       0.62      0.58      0.60       126\n",
            "           1       0.58      0.62      0.60       117\n",
            "\n",
            "    accuracy                           0.60       243\n",
            "   macro avg       0.60      0.60      0.60       243\n",
            "weighted avg       0.60      0.60      0.60       243\n",
            "\n",
            "📉 Confusion Matrix:\n"
          ]
        },
        {
          "output_type": "stream",
          "name": "stderr",
          "text": [
            "<ipython-input-45-1753b906cb76>:48: UserWarning: Glyph 128202 (\\N{BAR CHART}) missing from font(s) DejaVu Sans.\n",
            "  plt.tight_layout()\n",
            "/usr/local/lib/python3.11/dist-packages/IPython/core/pylabtools.py:151: UserWarning: Glyph 128202 (\\N{BAR CHART}) missing from font(s) DejaVu Sans.\n",
            "  fig.canvas.print_figure(bytes_io, **kw)\n"
          ]
        },
        {
          "output_type": "display_data",
          "data": {
            "text/plain": [
              "<Figure size 640x480 with 2 Axes>"
            ],
            "image/png": "[encoded data removed]"
          },
          "metadata": {}
        },
        {
          "output_type": "stream",
          "name": "stdout",
          "text": [
            "✅ Модель сохранена: /content/drive/MyDrive/bot_data/rf_model_fast_extended.pkl\n",
            "🔥 ТОП признаки:\n",
            "5m_rsi               0.083006\n",
            "rsi_diff_50          0.045433\n",
            "1m_rsi               0.045263\n",
            "1m_bb_width          0.039108\n",
            "momentum_5           0.038866\n",
            "1m_macd_signal       0.037692\n",
            "macd_gap             0.037591\n",
            "1m_obv               0.037401\n",
            "5m_macd              0.034794\n",
            "5m_obv               0.034467\n",
            "1m_volume_rolling    0.033714\n",
            "5m_bb_width          0.033699\n",
            "5m_macd_signal       0.033205\n",
            "ema_gap              0.032987\n",
            "5m_volume_rolling    0.031627\n",
            "1m_macd              0.031464\n",
            "1m_atr               0.030991\n",
            "5m_atr               0.030477\n",
            "1m_bb_low            0.028737\n",
            "Volume               0.023724\n",
            "dtype: float64\n"
          ]
        }
      ]
    },
    {
      "cell_type": "code",
      "source": [
        "import pandas as pd\n",
        "import lightgbm as lgb\n",
        "from sklearn.model_selection import train_test_split\n",
        "from sklearn.metrics import classification_report, confusion_matrix\n",
        "\n",
        "DATA_PATH = \"/content/drive/MyDrive/bot_data/BTC_EUR_fast_labeled.csv\"\n",
        "\n",
        "df = pd.read_csv(DATA_PATH)\n",
        "X = df.drop(columns=[\"Datetime\", \"tf\", \"target\"])\n",
        "y = df[\"target\"]\n",
        "\n",
        "X_train, X_test, y_train, y_test = train_test_split(X, y, test_size=0.2, shuffle=False)\n",
        "\n",
        "model = lgb.LGBMClassifier()\n",
        "model.fit(X_train, y_train)\n",
        "\n",
        "y_pred = model.predict(X_test)\n",
        "\n",
        "print(\"📊 LightGBM Report:\")\n",
        "print(classification_report(y_test, y_pred))\n",
        "print(\"📉 Confusion Matrix:\")\n",
        "print(confusion_matrix(y_test, y_pred))\n",
        "\n",
        "importances = pd.Series(model.feature_importances_, index=X.columns).sort_values(ascending=False)\n",
        "print(\"🔥 Feature importances:\")\n",
        "print(importances.head(20))\n",
        "\n",
        "model.booster_.save_model(\"/content/drive/MyDrive/bot_data/lightgbm_model.txt\")\n"
      ],
      "metadata": {
        "colab": {
          "base_uri": "https://localhost:8080/"
        },
        "id": "s2JnTM9gCTWg",
        "outputId": "6a260017-ab30-45e7-90ac-9558bea8225a"
      },
      "execution_count": null,
      "outputs": [
        {
          "output_type": "stream",
          "name": "stdout",
          "text": [
            "[LightGBM] [Info] Number of positive: 466, number of negative: 506\n",
            "[LightGBM] [Info] Auto-choosing row-wise multi-threading, the overhead of testing was 0.001303 seconds.\n",
            "You can set `force_row_wise=true` to remove the overhead.\n",
            "And if memory is not enough, you can set `force_col_wise=true`.\n",
            "[LightGBM] [Info] Total Bins 7813\n",
            "[LightGBM] [Info] Number of data points in the train set: 972, number of used features: 32\n",
            "[LightGBM] [Info] [binary:BoostFromScore]: pavg=0.479424 -> initscore=-0.082351\n",
            "[LightGBM] [Info] Start training from score -0.082351\n",
            "📊 LightGBM Report:\n",
            "              precision    recall  f1-score   support\n",
            "\n",
            "           0       0.70      0.62      0.66       126\n",
            "           1       0.63      0.71      0.67       117\n",
            "\n",
            "    accuracy                           0.66       243\n",
            "   macro avg       0.67      0.66      0.66       243\n",
            "weighted avg       0.67      0.66      0.66       243\n",
            "\n",
            "📉 Confusion Matrix:\n",
            "[[78 48]\n",
            " [34 83]]\n",
            "🔥 Feature importances:\n",
            "5m_rsi               361\n",
            "1m_rsi               188\n",
            "rsi_diff_50          183\n",
            "1m_volume_rolling    161\n",
            "macd_gap             144\n",
            "5m_macd_signal       141\n",
            "momentum_5           137\n",
            "1m_bb_width          136\n",
            "5m_obv               135\n",
            "1m_macd              135\n",
            "1m_obv               131\n",
            "5m_macd              128\n",
            "5m_volume_rolling    128\n",
            "1m_macd_signal       123\n",
            "1m_atr               105\n",
            "5m_bb_width           88\n",
            "Volume                85\n",
            "5m_atr                85\n",
            "trend_persistence     66\n",
            "Close                 60\n",
            "dtype: int32\n"
          ]
        },
        {
          "output_type": "execute_result",
          "data": {
            "text/plain": [
              "<lightgbm.basic.Booster at 0x7d0d95f3b950>"
            ]
          },
          "metadata": {},
          "execution_count": 46
        }
      ]
    },
    {
      "cell_type": "code",
      "source": [
        "import pandas as pd\n",
        "from sklearn.model_selection import train_test_split\n",
        "from sklearn.metrics import classification_report, confusion_matrix\n",
        "from xgboost import XGBClassifier\n",
        "import joblib\n",
        "\n",
        "# === Загрузка данных ===\n",
        "df = pd.read_csv(\"/content/drive/MyDrive/bot_data/BTC_EUR_fast_labeled.csv\")\n",
        "X = df.drop(columns=[\"Datetime\", \"tf\", \"target\"])\n",
        "y = df[\"target\"]\n",
        "\n",
        "# === Разделение ===\n",
        "X_train, X_test, y_train, y_test = train_test_split(X, y, test_size=0.2, shuffle=False)\n",
        "\n",
        "# === Обучение модели ===\n",
        "model = XGBClassifier(n_estimators=100, max_depth=4, learning_rate=0.05, use_label_encoder=False, eval_metric=\"logloss\")\n",
        "model.fit(X_train, y_train)\n",
        "\n",
        "# === Оценка ===\n",
        "y_pred = model.predict(X_test)\n",
        "print(\"📊 XGBoost Report:\")\n",
        "print(classification_report(y_test, y_pred))\n",
        "print(\"📉 Confusion Matrix:\")\n",
        "print(confusion_matrix(y_test, y_pred))\n",
        "\n",
        "# === Важность признаков ===\n",
        "importances = pd.Series(model.feature_importances_, index=X.columns).sort_values(ascending=False)\n",
        "print(\"🔥 Feature importances:\")\n",
        "print(importances.head(20))\n",
        "\n",
        "# === Сохранение ===\n",
        "joblib.dump(model, \"/content/drive/MyDrive/bot_data/xgb_model_fast.pkl\")\n"
      ],
      "metadata": {
        "colab": {
          "base_uri": "https://localhost:8080/"
        },
        "id": "JialciKHD96o",
        "outputId": "0008109a-e4e6-4779-80e8-8eb90ef37f19"
      },
      "execution_count": null,
      "outputs": [
        {
          "output_type": "stream",
          "name": "stderr",
          "text": [
            "/usr/local/lib/python3.11/dist-packages/xgboost/core.py:158: UserWarning: [18:27:13] WARNING: /workspace/src/learner.cc:740: \n",
            "Parameters: { \"use_label_encoder\" } are not used.\n",
            "\n",
            "  warnings.warn(smsg, UserWarning)\n"
          ]
        },
        {
          "output_type": "stream",
          "name": "stdout",
          "text": [
            "📊 XGBoost Report:\n",
            "              precision    recall  f1-score   support\n",
            "\n",
            "           0       0.69      0.71      0.70       126\n",
            "           1       0.68      0.65      0.66       117\n",
            "\n",
            "    accuracy                           0.68       243\n",
            "   macro avg       0.68      0.68      0.68       243\n",
            "weighted avg       0.68      0.68      0.68       243\n",
            "\n",
            "📉 Confusion Matrix:\n",
            "[[90 36]\n",
            " [41 76]]\n",
            "🔥 Feature importances:\n",
            "1m_macd_signal       0.058577\n",
            "High                 0.056338\n",
            "5m_rsi               0.051438\n",
            "5m_macd              0.045376\n",
            "5m_bb_low            0.044373\n",
            "5m_ema26             0.040825\n",
            "1m_rsi               0.038737\n",
            "1m_macd              0.037172\n",
            "Low                  0.036940\n",
            "5m_bb_high           0.036311\n",
            "1m_bb_low            0.035862\n",
            "5m_macd_signal       0.035543\n",
            "1m_ema12             0.035475\n",
            "1m_bb_width          0.033271\n",
            "5m_volume_rolling    0.032199\n",
            "rsi_diff_50          0.031551\n",
            "5m_obv               0.030809\n",
            "5m_ema12             0.030054\n",
            "5m_bb_width          0.028754\n",
            "1m_bb_high           0.026557\n",
            "dtype: float32\n"
          ]
        },
        {
          "output_type": "execute_result",
          "data": {
            "text/plain": [
              "['/content/drive/MyDrive/bot_data/xgb_model_fast.pkl']"
            ]
          },
          "metadata": {},
          "execution_count": 47
        }
      ]
    },
    {
      "cell_type": "code",
      "source": [
        "import pandas as pd\n",
        "import lightgbm as lgb\n",
        "from sklearn.model_selection import train_test_split\n",
        "from sklearn.metrics import classification_report, confusion_matrix\n",
        "import joblib\n",
        "\n",
        "# === Пути ===\n",
        "DATA_PATH = \"/content/drive/MyDrive/bot_data/BTC_EUR_fast_labeled.csv\"\n",
        "MODEL_PATH = \"/content/drive/MyDrive/bot_data/lgbm_model_fast.pkl\"\n",
        "\n",
        "# === Загрузка данных ===\n",
        "print(\"📥 Загружаем данные...\")\n",
        "df = pd.read_csv(DATA_PATH)\n",
        "print(f\"✅ Всего строк: {len(df)}\")\n",
        "\n",
        "# === Целевой признак ===\n",
        "y = df[\"target\"]\n",
        "X = df.drop(columns=[\"Datetime\", \"tf\", \"target\"])\n",
        "\n",
        "# === Разделение на train/test ===\n",
        "X_train, X_test, y_train, y_test = train_test_split(X, y, test_size=0.2, shuffle=False)\n",
        "\n",
        "# === Модель LightGBM ===\n",
        "model = lgb.LGBMClassifier(\n",
        "    learning_rate=0.05,\n",
        "    num_leaves=31,\n",
        "    n_estimators=150,\n",
        "    class_weight='balanced'\n",
        ")\n",
        "\n",
        "# === Обучение ===\n",
        "print(\"⚙️ Обучаем LightGBM...\")\n",
        "model.fit(X_train, y_train)\n",
        "\n",
        "# === Оценка ===\n",
        "print(\"📊 LightGBM Report:\")\n",
        "y_pred = model.predict(X_test)\n",
        "print(classification_report(y_test, y_pred))\n",
        "print(\"📉 Confusion Matrix:\")\n",
        "print(confusion_matrix(y_test, y_pred))\n",
        "\n",
        "# === Сохраняем ===\n",
        "joblib.dump(model, MODEL_PATH)\n",
        "print(f\"✅ Модель сохранена: {MODEL_PATH}\")\n",
        "\n",
        "# === Важность признаков ===\n",
        "print(\"🔥 Feature importances:\")\n",
        "feature_imp = pd.Series(model.feature_importances_, index=X.columns)\n",
        "print(feature_imp.sort_values(ascending=False).head(20))\n"
      ],
      "metadata": {
        "colab": {
          "base_uri": "https://localhost:8080/"
        },
        "id": "RYpBucbwPH8V",
        "outputId": "a5075ff7-d0bf-44a6-e961-2ea3cf62949a"
      },
      "execution_count": null,
      "outputs": [
        {
          "output_type": "stream",
          "name": "stdout",
          "text": [
            "📥 Загружаем данные...\n",
            "✅ Всего строк: 1215\n",
            "⚙️ Обучаем LightGBM...\n",
            "[LightGBM] [Info] Number of positive: 466, number of negative: 506\n",
            "[LightGBM] [Info] Auto-choosing col-wise multi-threading, the overhead of testing was 0.000409 seconds.\n",
            "You can set `force_col_wise=true` to remove the overhead.\n",
            "[LightGBM] [Info] Total Bins 7813\n",
            "[LightGBM] [Info] Number of data points in the train set: 972, number of used features: 32\n",
            "[LightGBM] [Info] [binary:BoostFromScore]: pavg=0.500000 -> initscore=-0.000000\n",
            "[LightGBM] [Info] Start training from score -0.000000\n",
            "📊 LightGBM Report:\n",
            "              precision    recall  f1-score   support\n",
            "\n",
            "           0       0.67      0.65      0.66       126\n",
            "           1       0.64      0.66      0.65       117\n",
            "\n",
            "    accuracy                           0.65       243\n",
            "   macro avg       0.65      0.65      0.65       243\n",
            "weighted avg       0.65      0.65      0.65       243\n",
            "\n",
            "📉 Confusion Matrix:\n",
            "[[82 44]\n",
            " [40 77]]\n",
            "✅ Модель сохранена: /content/drive/MyDrive/bot_data/lgbm_model_fast.pkl\n",
            "🔥 Feature importances:\n",
            "5m_rsi               580\n",
            "1m_rsi               282\n",
            "rsi_diff_50          260\n",
            "1m_volume_rolling    256\n",
            "1m_bb_width          222\n",
            "5m_macd_signal       222\n",
            "5m_obv               210\n",
            "5m_volume_rolling    198\n",
            "1m_macd_signal       193\n",
            "5m_macd              192\n",
            "momentum_5           191\n",
            "1m_macd              180\n",
            "macd_gap             174\n",
            "1m_obv               172\n",
            "5m_bb_width          160\n",
            "1m_atr               153\n",
            "Volume               136\n",
            "5m_atr               114\n",
            "1m_bb_low             89\n",
            "trend_persistence     85\n",
            "dtype: int32\n"
          ]
        }
      ]
    },
    {
      "cell_type": "code",
      "source": [
        "import os\n",
        "\n",
        "folder_path = \"/content/drive/MyDrive/bot_data\"\n",
        "for file in os.listdir(folder_path):\n",
        "    print(file)\n"
      ],
      "metadata": {
        "colab": {
          "base_uri": "https://localhost:8080/"
        },
        "id": "ran0-ay5Xilt",
        "outputId": "62370d87-cabf-4147-b867-3daefe380a27"
      },
      "execution_count": null,
      "outputs": [
        {
          "output_type": "stream",
          "name": "stdout",
          "text": [
            "BTC_EUR_features_clean.csv\n",
            "BTC_EUR_with_target.csv\n",
            "rf_model.pkl\n",
            "rf_model_filtered.pkl\n",
            "BTC_EUR_fast_1m.csv\n",
            "BTC_EUR_fast_5m.csv\n",
            "BTC_EUR_fast_cleaned_1m.csv\n",
            "BTC_EUR_fast_cleaned_5m.csv\n",
            "BTC_EUR_fast_features_cleaned.csv\n",
            "BTC_EUR_fast_labeled.csv\n",
            "BTC_EUR_fast_features_cleaned_filled.csv\n",
            "BTC_EUR_fast_features_ready.csv\n",
            "rf_model_fast.pkl\n",
            "rf_model_fast_filtered.pkl\n",
            "BTC_EUR_fast_features_boosted.csv\n",
            "BTC_EUR_fast_features_boosted_target.csv\n",
            "rf_model_fast_t3.pkl\n",
            "BTC_EUR_fast_features_extended.csv\n",
            "rf_model_fast_extended.pkl\n",
            "lightgbm_model.txt\n",
            "xgb_model_fast.pkl\n",
            "lgbm_model_fast.pkl\n"
          ]
        }
      ]
    },
    {
      "cell_type": "code",
      "source": [
        "from google.colab import files\n",
        "\n",
        "# Скачиваем датасет с метками\n",
        "files.download('/content/drive/MyDrive/bot_data/BTC_EUR_fast_labeled.csv')\n",
        "\n",
        "# Скачиваем модель LightGBM\n",
        "files.download('/content/drive/MyDrive/bot_data/lgbm_model_fast.pkl')\n"
      ],
      "metadata": {
        "colab": {
          "base_uri": "https://localhost:8080/",
          "height": 17
        },
        "id": "T4G0LsmEYIbV",
        "outputId": "383ae5cc-06e0-479c-ebfc-303699885f31"
      },
      "execution_count": null,
      "outputs": [
        {
          "output_type": "display_data",
          "data": {
            "text/plain": [
              "<IPython.core.display.Javascript object>"
            ],
            "application/javascript": [
              "\n",
              "    async function download(id, filename, size) {\n",
              "      if (!google.colab.kernel.accessAllowed) {\n",
              "        return;\n",
              "      }\n",
              "      const div = document.createElement('div');\n",
              "      const label = document.createElement('label');\n",
              "      label.textContent = `Downloading \"${filename}\": `;\n",
              "      div.appendChild(label);\n",
              "      const progress = document.createElement('progress');\n",
              "      progress.max = size;\n",
              "      div.appendChild(progress);\n",
              "      document.body.appendChild(div);\n",
              "\n",
              "      const buffers = [];\n",
              "      let downloaded = 0;\n",
              "\n",
              "      const channel = await google.colab.kernel.comms.open(id);\n",
              "      // Send a message to notify the kernel that we're ready.\n",
              "      channel.send({})\n",
              "\n",
              "      for await (const message of channel.messages) {\n",
              "        // Send a message to notify the kernel that we're ready.\n",
              "        channel.send({})\n",
              "        if (message.buffers) {\n",
              "          for (const buffer of message.buffers) {\n",
              "            buffers.push(buffer);\n",
              "            downloaded += buffer.byteLength;\n",
              "            progress.value = downloaded;\n",
              "          }\n",
              "        }\n",
              "      }\n",
              "      const blob = new Blob(buffers, {type: 'application/binary'});\n",
              "      const a = document.createElement('a');\n",
              "      a.href = window.URL.createObjectURL(blob);\n",
              "      a.download = filename;\n",
              "      div.appendChild(a);\n",
              "      a.click();\n",
              "      div.remove();\n",
              "    }\n",
              "  "
            ]
          },
          "metadata": {}
        },
        {
          "output_type": "display_data",
          "data": {
            "text/plain": [
              "<IPython.core.display.Javascript object>"
            ],
            "application/javascript": [
              "download(\"download_55c55beb-2fe0-4661-af8c-a662badf5267\", \"BTC_EUR_fast_labeled.csv\", 661097)"
            ]
          },
          "metadata": {}
        },
        {
          "output_type": "display_data",
          "data": {
            "text/plain": [
              "<IPython.core.display.Javascript object>"
            ],
            "application/javascript": [
              "\n",
              "    async function download(id, filename, size) {\n",
              "      if (!google.colab.kernel.accessAllowed) {\n",
              "        return;\n",
              "      }\n",
              "      const div = document.createElement('div');\n",
              "      const label = document.createElement('label');\n",
              "      label.textContent = `Downloading \"${filename}\": `;\n",
              "      div.appendChild(label);\n",
              "      const progress = document.createElement('progress');\n",
              "      progress.max = size;\n",
              "      div.appendChild(progress);\n",
              "      document.body.appendChild(div);\n",
              "\n",
              "      const buffers = [];\n",
              "      let downloaded = 0;\n",
              "\n",
              "      const channel = await google.colab.kernel.comms.open(id);\n",
              "      // Send a message to notify the kernel that we're ready.\n",
              "      channel.send({})\n",
              "\n",
              "      for await (const message of channel.messages) {\n",
              "        // Send a message to notify the kernel that we're ready.\n",
              "        channel.send({})\n",
              "        if (message.buffers) {\n",
              "          for (const buffer of message.buffers) {\n",
              "            buffers.push(buffer);\n",
              "            downloaded += buffer.byteLength;\n",
              "            progress.value = downloaded;\n",
              "          }\n",
              "        }\n",
              "      }\n",
              "      const blob = new Blob(buffers, {type: 'application/binary'});\n",
              "      const a = document.createElement('a');\n",
              "      a.href = window.URL.createObjectURL(blob);\n",
              "      a.download = filename;\n",
              "      div.appendChild(a);\n",
              "      a.click();\n",
              "      div.remove();\n",
              "    }\n",
              "  "
            ]
          },
          "metadata": {}
        },
        {
          "output_type": "display_data",
          "data": {
            "text/plain": [
              "<IPython.core.display.Javascript object>"
            ],
            "application/javascript": [
              "download(\"download_06b9061a-86ff-4b04-95a8-18ea9ef32979\", \"lgbm_model_fast.pkl\", 514788)"
            ]
          },
          "metadata": {}
        }
      ]
    },
    {
      "cell_type": "code",
      "source": [
        "import json\n",
        "\n",
        "# Сохраняем параметры\n",
        "params = {\n",
        "    \"model\": \"LGBMClassifier\",\n",
        "    \"learning_rate\": 0.05,\n",
        "    \"num_leaves\": 31,\n",
        "    \"n_estimators\": 150,\n",
        "    \"class_weight\": \"balanced\",\n",
        "    \"target\": \"t+1 (Close future > Close now)\"\n",
        "}\n",
        "with open(\"/content/drive/MyDrive/bot_data/lgbm_model_fast_params.json\", \"w\") as f:\n",
        "    json.dump(params, f, indent=4)\n",
        "\n",
        "# Сохраняем список признаков\n",
        "features = X.columns.tolist()\n",
        "with open(\"/content/drive/MyDrive/bot_data/lgbm_model_fast_features.json\", \"w\") as f:\n",
        "    json.dump(features, f, indent=4)\n"
      ],
      "metadata": {
        "id": "CQaRVnYsbUZI"
      },
      "execution_count": null,
      "outputs": []
    },
    {
      "cell_type": "code",
      "source": [
        "import json\n",
        "\n",
        "# Параметры модели\n",
        "rf_params = {\n",
        "    \"model\": \"RandomForestClassifier\",\n",
        "    \"n_estimators\": 100,\n",
        "    \"max_depth\": 6,\n",
        "    \"random_state\": 42,\n",
        "    \"class_weight\": \"balanced\",\n",
        "    \"target\": \"t+1 (Close future > Close now)\"\n",
        "}\n",
        "\n",
        "with open(\"/content/drive/MyDrive/bot_data/rf_model_params.json\", \"w\") as f:\n",
        "    json.dump(rf_params, f, indent=4)\n",
        "\n",
        "# Список признаков (если X еще в памяти)\n",
        "features_rf = X.columns.tolist()\n",
        "with open(\"/content/drive/MyDrive/bot_data/rf_model_features.json\", \"w\") as f:\n",
        "    json.dump(features_rf, f, indent=4)\n"
      ],
      "metadata": {
        "id": "ce18Gja6baYb"
      },
      "execution_count": null,
      "outputs": []
    },
    {
      "cell_type": "code",
      "source": [
        "import json\n",
        "from google.colab import files\n",
        "\n",
        "# === 1. Параметры модели (введи сюда свои реальные) ===\n",
        "model_params = {\n",
        "    \"model\": \"RandomForestClassifier\",\n",
        "    \"n_estimators\": 100,\n",
        "    \"max_depth\": 6,\n",
        "    \"random_state\": 42,\n",
        "    \"class_weight\": \"balanced\",\n",
        "    \"target_logic\": \"Close_t+1 > Close_t\"\n",
        "}\n",
        "\n",
        "# === 2. Пути к сохранению ===\n",
        "params_path = \"rf_model_params.json\"\n",
        "features_path = \"rf_model_features.json\"\n",
        "\n",
        "# === 3. Список фичей (если у тебя есть X) ===\n",
        "try:\n",
        "    feature_list = X.columns.tolist()\n",
        "except:\n",
        "    feature_list = [\"Close\", \"High\", \"Low\", \"Volume\", \"1h_rsi\", \"1h_macd\", \"1d_bb_width\", \"...and_others\"]\n",
        "    print(\"❗ X не найден. Использую примерный список признаков. Заменишь позже.\")\n",
        "\n",
        "# === 4. Сохраняем в JSON ===\n",
        "with open(params_path, \"w\") as f:\n",
        "    json.dump(model_params, f, indent=4)\n",
        "\n",
        "with open(features_path, \"w\") as f:\n",
        "    json.dump(feature_list, f, indent=4)\n",
        "\n",
        "# === 5. Скачиваем на комп ===\n",
        "files.download(params_path)\n",
        "files.download(features_path)\n"
      ],
      "metadata": {
        "colab": {
          "base_uri": "https://localhost:8080/",
          "height": 17
        },
        "id": "e8j7jVencYu-",
        "outputId": "548f29fd-3d20-4198-9af4-200d65e95c6f"
      },
      "execution_count": null,
      "outputs": [
        {
          "output_type": "display_data",
          "data": {
            "text/plain": [
              "<IPython.core.display.Javascript object>"
            ],
            "application/javascript": [
              "\n",
              "    async function download(id, filename, size) {\n",
              "      if (!google.colab.kernel.accessAllowed) {\n",
              "        return;\n",
              "      }\n",
              "      const div = document.createElement('div');\n",
              "      const label = document.createElement('label');\n",
              "      label.textContent = `Downloading \"${filename}\": `;\n",
              "      div.appendChild(label);\n",
              "      const progress = document.createElement('progress');\n",
              "      progress.max = size;\n",
              "      div.appendChild(progress);\n",
              "      document.body.appendChild(div);\n",
              "\n",
              "      const buffers = [];\n",
              "      let downloaded = 0;\n",
              "\n",
              "      const channel = await google.colab.kernel.comms.open(id);\n",
              "      // Send a message to notify the kernel that we're ready.\n",
              "      channel.send({})\n",
              "\n",
              "      for await (const message of channel.messages) {\n",
              "        // Send a message to notify the kernel that we're ready.\n",
              "        channel.send({})\n",
              "        if (message.buffers) {\n",
              "          for (const buffer of message.buffers) {\n",
              "            buffers.push(buffer);\n",
              "            downloaded += buffer.byteLength;\n",
              "            progress.value = downloaded;\n",
              "          }\n",
              "        }\n",
              "      }\n",
              "      const blob = new Blob(buffers, {type: 'application/binary'});\n",
              "      const a = document.createElement('a');\n",
              "      a.href = window.URL.createObjectURL(blob);\n",
              "      a.download = filename;\n",
              "      div.appendChild(a);\n",
              "      a.click();\n",
              "      div.remove();\n",
              "    }\n",
              "  "
            ]
          },
          "metadata": {}
        },
        {
          "output_type": "display_data",
          "data": {
            "text/plain": [
              "<IPython.core.display.Javascript object>"
            ],
            "application/javascript": [
              "download(\"download_7d0a6483-94fd-48bf-bab0-982b1f01f883\", \"rf_model_params.json\", 185)"
            ]
          },
          "metadata": {}
        },
        {
          "output_type": "display_data",
          "data": {
            "text/plain": [
              "<IPython.core.display.Javascript object>"
            ],
            "application/javascript": [
              "\n",
              "    async function download(id, filename, size) {\n",
              "      if (!google.colab.kernel.accessAllowed) {\n",
              "        return;\n",
              "      }\n",
              "      const div = document.createElement('div');\n",
              "      const label = document.createElement('label');\n",
              "      label.textContent = `Downloading \"${filename}\": `;\n",
              "      div.appendChild(label);\n",
              "      const progress = document.createElement('progress');\n",
              "      progress.max = size;\n",
              "      div.appendChild(progress);\n",
              "      document.body.appendChild(div);\n",
              "\n",
              "      const buffers = [];\n",
              "      let downloaded = 0;\n",
              "\n",
              "      const channel = await google.colab.kernel.comms.open(id);\n",
              "      // Send a message to notify the kernel that we're ready.\n",
              "      channel.send({})\n",
              "\n",
              "      for await (const message of channel.messages) {\n",
              "        // Send a message to notify the kernel that we're ready.\n",
              "        channel.send({})\n",
              "        if (message.buffers) {\n",
              "          for (const buffer of message.buffers) {\n",
              "            buffers.push(buffer);\n",
              "            downloaded += buffer.byteLength;\n",
              "            progress.value = downloaded;\n",
              "          }\n",
              "        }\n",
              "      }\n",
              "      const blob = new Blob(buffers, {type: 'application/binary'});\n",
              "      const a = document.createElement('a');\n",
              "      a.href = window.URL.createObjectURL(blob);\n",
              "      a.download = filename;\n",
              "      div.appendChild(a);\n",
              "      a.click();\n",
              "      div.remove();\n",
              "    }\n",
              "  "
            ]
          },
          "metadata": {}
        },
        {
          "output_type": "display_data",
          "data": {
            "text/plain": [
              "<IPython.core.display.Javascript object>"
            ],
            "application/javascript": [
              "download(\"download_8ba26a9f-f353-4b49-85df-e9577985fac4\", \"rf_model_features.json\", 537)"
            ]
          },
          "metadata": {}
        }
      ]
    }
  ]
}